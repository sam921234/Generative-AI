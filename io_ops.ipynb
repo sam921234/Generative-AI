{
 "cells": [
  {
   "cell_type": "code",
   "execution_count": 81,
   "metadata": {},
   "outputs": [],
   "source": [
    "# Importing the relevant libraries\n",
    "import os\n",
    "from dotenv import load_dotenv\n",
    "import langchain\n",
    "from langchain_openai import OpenAI, ChatOpenAI\n",
    "from langchain_core.prompts import PromptTemplate, ChatPromptTemplate\n",
    "from langchain_core.messages import HumanMessage, SystemMessage\n",
    "from IPython.display import display, Markdown\n",
    "from pydantic import BaseModel, Field\n",
    "from langchain_core.output_parsers import PydanticOutputParser\n",
    "from langchain_community.callbacks import get_openai_callback\n",
    "from langchain_core.globals import set_llm_cache\n",
    "from langchain_core.caches import InMemoryCache\n",
    "# from langchain_community.\n"
   ]
  },
  {
   "cell_type": "code",
   "execution_count": 77,
   "metadata": {},
   "outputs": [
    {
     "data": {
      "text/plain": [
       "True"
      ]
     },
     "execution_count": 77,
     "metadata": {},
     "output_type": "execute_result"
    }
   ],
   "source": [
    "# loading the environment variables\n",
    "load_dotenv()"
   ]
  },
  {
   "cell_type": "code",
   "execution_count": 78,
   "metadata": {},
   "outputs": [],
   "source": [
    "# Interfacing with chat models\n",
    "chatgpt = ChatOpenAI(model = \"gpt-4o-mini\",temperature = 0)"
   ]
  },
  {
   "cell_type": "code",
   "execution_count": 6,
   "metadata": {},
   "outputs": [],
   "source": [
    "# Creating a prompt\n",
    "prompt = \"Explain Generative AI in max 2 Bullet points.\""
   ]
  },
  {
   "cell_type": "code",
   "execution_count": 7,
   "metadata": {},
   "outputs": [
    {
     "data": {
      "text/markdown": [
       "- **Definition**: Generative AI refers to algorithms and models that can create new content, such as text, images, music, or videos, by learning patterns from existing data. Examples include language models like GPT and image generators like DALL-E.\n",
       "\n",
       "- **Applications**: It is used in various fields, including creative arts, content generation, game design, and personalized marketing, enabling automation and innovation in producing high-quality, original outputs."
      ],
      "text/plain": [
       "<IPython.core.display.Markdown object>"
      ]
     },
     "metadata": {},
     "output_type": "display_data"
    }
   ],
   "source": [
    "# Invoking the chat model\n",
    "response = chatgpt.invoke(prompt)\n",
    "display(Markdown(response.content))"
   ]
  },
  {
   "cell_type": "code",
   "execution_count": 10,
   "metadata": {},
   "outputs": [
    {
     "name": "stdout",
     "output_type": "stream",
     "text": [
      "content='- **Definition**: Generative AI refers to algorithms and models that can create new content, such as text, images, music, or videos, by learning patterns from existing data. Examples include language models like GPT and image generators like DALL-E.\\n\\n- **Applications**: It is used in various fields, including creative arts, content generation, game design, and personalized marketing, enabling automation and innovation in producing high-quality, original outputs.' additional_kwargs={'refusal': None} response_metadata={'token_usage': {'completion_tokens': 90, 'prompt_tokens': 18, 'total_tokens': 108, 'completion_tokens_details': {'accepted_prediction_tokens': 0, 'audio_tokens': 0, 'reasoning_tokens': 0, 'rejected_prediction_tokens': 0}, 'prompt_tokens_details': {'audio_tokens': 0, 'cached_tokens': 0}}, 'model_name': 'gpt-4o-mini-2024-07-18', 'system_fingerprint': 'fp_0aa8d3e20b', 'finish_reason': 'stop', 'logprobs': None} id='run-b837d192-bc40-4981-abd9-fffb75c182c7-0' usage_metadata={'input_tokens': 18, 'output_tokens': 90, 'total_tokens': 108, 'input_token_details': {'audio': 0, 'cache_read': 0}, 'output_token_details': {'audio': 0, 'reasoning': 0}}\n"
     ]
    }
   ],
   "source": [
    "print(response)"
   ]
  },
  {
   "cell_type": "code",
   "execution_count": 11,
   "metadata": {},
   "outputs": [
    {
     "data": {
      "text/plain": [
       "AIMessage(content='- **Definition**: Generative AI refers to algorithms and models that can create new content, such as text, images, music, or videos, by learning patterns from existing data. Examples include language models like GPT and image generators like DALL-E.\\n\\n- **Applications**: It is used in various fields, including creative arts, content generation, game design, and personalized marketing, enabling automation and innovation in producing high-quality, original outputs.', additional_kwargs={'refusal': None}, response_metadata={'token_usage': {'completion_tokens': 90, 'prompt_tokens': 18, 'total_tokens': 108, 'completion_tokens_details': {'accepted_prediction_tokens': 0, 'audio_tokens': 0, 'reasoning_tokens': 0, 'rejected_prediction_tokens': 0}, 'prompt_tokens_details': {'audio_tokens': 0, 'cached_tokens': 0}}, 'model_name': 'gpt-4o-mini-2024-07-18', 'system_fingerprint': 'fp_0aa8d3e20b', 'finish_reason': 'stop', 'logprobs': None}, id='run-b837d192-bc40-4981-abd9-fffb75c182c7-0', usage_metadata={'input_tokens': 18, 'output_tokens': 90, 'total_tokens': 108, 'input_token_details': {'audio': 0, 'cache_read': 0}, 'output_token_details': {'audio': 0, 'reasoning': 0}})"
      ]
     },
     "execution_count": 11,
     "metadata": {},
     "output_type": "execute_result"
    }
   ],
   "source": [
    "response"
   ]
  },
  {
   "cell_type": "code",
   "execution_count": 23,
   "metadata": {},
   "outputs": [
    {
     "data": {
      "text/plain": [
       "AIMessage(content='- **Definition and Functionality**: Generative AI refers to a class of artificial intelligence models that can create new content, such as text, images, music, or videos, by learning patterns and structures from existing data. It uses techniques like deep learning and neural networks to generate outputs that resemble human-created content.\\n\\n- **Applications and Impact**: Generative AI has a wide range of applications, including content creation, design, gaming, and personalized experiences. It can enhance creativity, automate tasks, and provide innovative solutions, but it also raises ethical considerations regarding authenticity, copyright, and potential misuse.', additional_kwargs={'refusal': None}, response_metadata={'token_usage': {'completion_tokens': 121, 'prompt_tokens': 43, 'total_tokens': 164, 'completion_tokens_details': {'accepted_prediction_tokens': 0, 'audio_tokens': 0, 'reasoning_tokens': 0, 'rejected_prediction_tokens': 0}, 'prompt_tokens_details': {'audio_tokens': 0, 'cached_tokens': 0}}, 'model_name': 'gpt-4o-mini-2024-07-18', 'system_fingerprint': 'fp_d02d531b47', 'finish_reason': 'stop', 'logprobs': None}, id='run-2f0565ed-123b-452c-a2cd-2bfa50a140c4-0', usage_metadata={'input_tokens': 43, 'output_tokens': 121, 'total_tokens': 164, 'input_token_details': {'audio': 0, 'cache_read': 0}, 'output_token_details': {'audio': 0, 'reasoning': 0}})"
      ]
     },
     "execution_count": 23,
     "metadata": {},
     "output_type": "execute_result"
    }
   ],
   "source": [
    "# using message types to build conversations\n",
    "system_content  = \"Act as a useful assitant and generate answer that's ethical and without any bias.\"\n",
    "human_content = \"What is the best way to explain Generative AI in 2 bullet points?\"\n",
    "messages = [\n",
    "    SystemMessage(content = system_content),\n",
    "    HumanMessage(content = human_content)\n",
    "]\n",
    "response = chatgpt.invoke(messages)\n",
    "response"
   ]
  },
  {
   "cell_type": "code",
   "execution_count": 24,
   "metadata": {},
   "outputs": [
    {
     "data": {
      "text/markdown": [
       "- **Definition and Functionality**: Generative AI refers to a class of artificial intelligence models that can create new content, such as text, images, music, or videos, by learning patterns and structures from existing data. It uses techniques like deep learning and neural networks to generate outputs that resemble human-created content.\n",
       "\n",
       "- **Applications and Impact**: Generative AI has a wide range of applications, including content creation, design, gaming, and personalized experiences. It can enhance creativity, automate tasks, and provide innovative solutions, but it also raises ethical considerations regarding authenticity, copyright, and potential misuse."
      ],
      "text/plain": [
       "<IPython.core.display.Markdown object>"
      ]
     },
     "metadata": {},
     "output_type": "display_data"
    }
   ],
   "source": [
    "display(Markdown(response.content))"
   ]
  },
  {
   "cell_type": "code",
   "execution_count": 25,
   "metadata": {},
   "outputs": [
    {
     "data": {
      "text/plain": [
       "AIMessage(content='- **Definition and Functionality**: Generative AI refers to a class of artificial intelligence models that can create new content, such as text, images, music, or videos, by learning patterns and structures from existing data. It uses techniques like deep learning and neural networks to generate outputs that resemble human-created content.\\n\\n- **Applications and Impact**: Generative AI has a wide range of applications, including content creation, design, gaming, and personalized experiences. It can enhance creativity, automate tasks, and provide innovative solutions, but it also raises ethical considerations regarding authenticity, copyright, and potential misuse.', additional_kwargs={'refusal': None}, response_metadata={'token_usage': {'completion_tokens': 121, 'prompt_tokens': 43, 'total_tokens': 164, 'completion_tokens_details': {'accepted_prediction_tokens': 0, 'audio_tokens': 0, 'reasoning_tokens': 0, 'rejected_prediction_tokens': 0}, 'prompt_tokens_details': {'audio_tokens': 0, 'cached_tokens': 0}}, 'model_name': 'gpt-4o-mini-2024-07-18', 'system_fingerprint': 'fp_d02d531b47', 'finish_reason': 'stop', 'logprobs': None}, id='run-2f0565ed-123b-452c-a2cd-2bfa50a140c4-0', usage_metadata={'input_tokens': 43, 'output_tokens': 121, 'total_tokens': 164, 'input_token_details': {'audio': 0, 'cache_read': 0}, 'output_token_details': {'audio': 0, 'reasoning': 0}})"
      ]
     },
     "execution_count": 25,
     "metadata": {},
     "output_type": "execute_result"
    }
   ],
   "source": [
    "messages.append(response)\n",
    "new_prompt = \"Can you explain it in 4 bullet points but in a better way?\"\n",
    "messages.append(HumanMessage(content = new_prompt))\n",
    "new_response = chatgpt.invoke(messages)"
   ]
  },
  {
   "cell_type": "code",
   "execution_count": 28,
   "metadata": {},
   "outputs": [
    {
     "data": {
      "text/plain": [
       "AIMessage(content='Certainly! Here’s a more detailed explanation of Generative AI in four bullet points:\\n\\n- **Core Concept**: Generative AI encompasses algorithms and models that can produce new data or content by learning from existing datasets. It mimics human creativity by understanding patterns, styles, and structures within the data it has been trained on.\\n\\n- **Types of Outputs**: This technology can generate a variety of outputs, including text (like articles or stories), images (such as artwork or photographs), music, and even video content. Each output is crafted to resemble the characteristics of the training data while being unique.\\n\\n- **Real-World Applications**: Generative AI is utilized across various industries, including entertainment (for scriptwriting and game design), marketing (for personalized content), healthcare (for drug discovery), and education (for tailored learning materials), showcasing its versatility and potential to enhance productivity.\\n\\n- **Ethical Considerations**: While Generative AI offers significant benefits, it also poses challenges, such as concerns about copyright infringement, misinformation, and the potential for creating deepfakes. Addressing these ethical issues is crucial to ensure responsible use and to maintain trust in AI-generated content.', additional_kwargs={'refusal': None}, response_metadata={'token_usage': {'completion_tokens': 236, 'prompt_tokens': 186, 'total_tokens': 422, 'completion_tokens_details': {'accepted_prediction_tokens': 0, 'audio_tokens': 0, 'reasoning_tokens': 0, 'rejected_prediction_tokens': 0}, 'prompt_tokens_details': {'audio_tokens': 0, 'cached_tokens': 0}}, 'model_name': 'gpt-4o-mini-2024-07-18', 'system_fingerprint': 'fp_0aa8d3e20b', 'finish_reason': 'stop', 'logprobs': None}, id='run-37fad5ed-5908-4798-9da0-e79a2663829d-0', usage_metadata={'input_tokens': 186, 'output_tokens': 236, 'total_tokens': 422, 'input_token_details': {'audio': 0, 'cache_read': 0}, 'output_token_details': {'audio': 0, 'reasoning': 0}})"
      ]
     },
     "execution_count": 28,
     "metadata": {},
     "output_type": "execute_result"
    }
   ],
   "source": [
    "new_response"
   ]
  },
  {
   "cell_type": "code",
   "execution_count": 26,
   "metadata": {},
   "outputs": [
    {
     "data": {
      "text/plain": [
       "[SystemMessage(content=\"Act as a useful assitant and generate answer that's ethical and without any bias.\", additional_kwargs={}, response_metadata={}),\n",
       " HumanMessage(content='What is the best way to explain Generative AI in 2 bullet points?', additional_kwargs={}, response_metadata={}),\n",
       " AIMessage(content='- **Definition and Functionality**: Generative AI refers to a class of artificial intelligence models that can create new content, such as text, images, music, or videos, by learning patterns and structures from existing data. It uses techniques like deep learning and neural networks to generate outputs that resemble human-created content.\\n\\n- **Applications and Impact**: Generative AI has a wide range of applications, including content creation, design, gaming, and personalized experiences. It can enhance creativity, automate tasks, and provide innovative solutions, but it also raises ethical considerations regarding authenticity, copyright, and potential misuse.', additional_kwargs={'refusal': None}, response_metadata={'token_usage': {'completion_tokens': 121, 'prompt_tokens': 43, 'total_tokens': 164, 'completion_tokens_details': {'accepted_prediction_tokens': 0, 'audio_tokens': 0, 'reasoning_tokens': 0, 'rejected_prediction_tokens': 0}, 'prompt_tokens_details': {'audio_tokens': 0, 'cached_tokens': 0}}, 'model_name': 'gpt-4o-mini-2024-07-18', 'system_fingerprint': 'fp_d02d531b47', 'finish_reason': 'stop', 'logprobs': None}, id='run-2f0565ed-123b-452c-a2cd-2bfa50a140c4-0', usage_metadata={'input_tokens': 43, 'output_tokens': 121, 'total_tokens': 164, 'input_token_details': {'audio': 0, 'cache_read': 0}, 'output_token_details': {'audio': 0, 'reasoning': 0}}),\n",
       " HumanMessage(content='Can you explain it in 4 bullet points but in a better way?', additional_kwargs={}, response_metadata={})]"
      ]
     },
     "execution_count": 26,
     "metadata": {},
     "output_type": "execute_result"
    }
   ],
   "source": [
    "messages"
   ]
  },
  {
   "cell_type": "code",
   "execution_count": 29,
   "metadata": {},
   "outputs": [
    {
     "data": {
      "text/markdown": [
       "Certainly! Here’s a more detailed explanation of Generative AI in four bullet points:\n",
       "\n",
       "- **Core Concept**: Generative AI encompasses algorithms and models that can produce new data or content by learning from existing datasets. It mimics human creativity by understanding patterns, styles, and structures within the data it has been trained on.\n",
       "\n",
       "- **Types of Outputs**: This technology can generate a variety of outputs, including text (like articles or stories), images (such as artwork or photographs), music, and even video content. Each output is crafted to resemble the characteristics of the training data while being unique.\n",
       "\n",
       "- **Real-World Applications**: Generative AI is utilized across various industries, including entertainment (for scriptwriting and game design), marketing (for personalized content), healthcare (for drug discovery), and education (for tailored learning materials), showcasing its versatility and potential to enhance productivity.\n",
       "\n",
       "- **Ethical Considerations**: While Generative AI offers significant benefits, it also poses challenges, such as concerns about copyright infringement, misinformation, and the potential for creating deepfakes. Addressing these ethical issues is crucial to ensure responsible use and to maintain trust in AI-generated content."
      ],
      "text/plain": [
       "<IPython.core.display.Markdown object>"
      ]
     },
     "metadata": {},
     "output_type": "display_data"
    }
   ],
   "source": [
    "display(Markdown(new_response.content))"
   ]
  },
  {
   "cell_type": "markdown",
   "metadata": {},
   "source": [
    "# Working with prompt template"
   ]
  },
  {
   "cell_type": "code",
   "execution_count": 35,
   "metadata": {},
   "outputs": [
    {
     "name": "stdout",
     "output_type": "stream",
     "text": [
      "PROMPT TEMPLATE : Explain Generative AI in max 2 Bullet points.\n"
     ]
    },
    {
     "data": {
      "text/markdown": [
       "- **Definition**: Generative AI refers to algorithms and models that can create new content, such as text, images, music, or videos, by learning patterns from existing data. Examples include language models like GPT and image generators like DALL-E.\n",
       "\n",
       "- **Applications**: It is used in various fields, including creative arts, content generation, game design, and personalized marketing, enabling automation and innovation in producing high-quality, original outputs."
      ],
      "text/plain": [
       "<IPython.core.display.Markdown object>"
      ]
     },
     "metadata": {},
     "output_type": "display_data"
    }
   ],
   "source": [
    "# Passing an instruction to the model through template\n",
    "prompt = \"Explain Generative AI in max 2 Bullet points.\"\n",
    "prompt_template = PromptTemplate.from_template(prompt)\n",
    "\n",
    "# To extract prompt from the prompt template \n",
    "print(f'PROMPT TEMPLATE : {prompt_template.format()}')\n",
    "response = chatgpt.invoke(prompt_template.format())\n",
    "display(Markdown(response.content))"
   ]
  },
  {
   "cell_type": "code",
   "execution_count": 38,
   "metadata": {},
   "outputs": [
    {
     "name": "stdout",
     "output_type": "stream",
     "text": [
      "Formatted Template : ['Explain Generative AI in max 2 Bullet points in English.', 'Explain Quantum Computing in max 2 Bullet points in Hindi.', 'Explain Blockchain in max 2 Bullet points in Odia.']\n"
     ]
    },
    {
     "data": {
      "text/markdown": [
       "- **Definition**: Generative AI refers to a class of artificial intelligence models that can create new content, such as text, images, music, or videos, by learning patterns and structures from existing data.\n",
       "- **Applications**: It is used in various fields, including creative arts, content generation, game design, and even drug discovery, enabling innovative solutions and enhancing productivity."
      ],
      "text/plain": [
       "<IPython.core.display.Markdown object>"
      ]
     },
     "metadata": {},
     "output_type": "display_data"
    },
    {
     "data": {
      "text/markdown": [
       "- क्वांटम कंप्यूटिंग एक नई प्रकार की कंप्यूटिंग तकनीक है जो क्वांटम बिट्स (क्यूबिट्स) का उपयोग करती है, जो एक साथ कई स्थितियों में रह सकते हैं, जिससे यह पारंपरिक कंप्यूटरों की तुलना में अधिक तेज़ और शक्तिशाली बनती है।\n",
       "\n",
       "- यह तकनीक जटिल समस्याओं को हल करने, जैसे कि क्रिप्टोग्राफी, सामग्री विज्ञान और मशीन लर्निंग में, अधिक प्रभावी ढंग से करने की क्षमता रखती है।"
      ],
      "text/plain": [
       "<IPython.core.display.Markdown object>"
      ]
     },
     "metadata": {},
     "output_type": "display_data"
    },
    {
     "data": {
      "text/markdown": [
       "- ବ୍ଲକଚେନ୍ ହେଉଛି ଏକ ବିତରିତ ଡାଟାବେସ୍, ଯାହାରେ ତଥ୍ୟଗୁଡିକୁ ସୁରକ୍ଷିତ ଭାବରେ ରଖାଯାଇଥାଏ ଏବଂ ସେଗୁଡିକୁ ଏକ ଅବିକଳ ଚେନ୍ ରୂପେ ସଂଗ୍ରହ କରାଯାଇଥାଏ। \n",
       "\n",
       "- ଏହାର ମୂଳ ଲକ୍ଷ୍ୟ ହେଉଛି ତଥ୍ୟର ସ୍ୱାଧୀନତା, ସୁରକ୍ଷା, ଏବଂ ପ୍ରାମାଣିକତା ବୃଦ୍ଧି କରିବା, ଯାହା ଏକ ନିର୍ଭର ନାହିଁ ଥିବା ନେଟୱର୍କରେ ସମ୍ଭବ।"
      ],
      "text/plain": [
       "<IPython.core.display.Markdown object>"
      ]
     },
     "metadata": {},
     "output_type": "display_data"
    }
   ],
   "source": [
    "# Sending complex instructions to the model with place holders in the template\n",
    "\n",
    "prompt = \"Explain {topic} in max 2 Bullet points in {language}.\"\n",
    "prompt_template = PromptTemplate.from_template(prompt)\n",
    "\n",
    "# input data to the template \n",
    "input_data = [(\"Generative AI\", \"English\"),\n",
    "              (\"Quantum Computing\", \"Hindi\"),\n",
    "              (\"Blockchain\", \"Odia\")]\n",
    "\n",
    "# formatting the template with the input data\n",
    "formatted_template = [prompt_template.format(topic = topic, language = language) for topic,language in input_data]\n",
    "print(f'Formatted Template : {formatted_template}')\n",
    "\n",
    "# Invoking the model with the formatted template\n",
    "responses = chatgpt.map().invoke(formatted_template)\n",
    "for response in responses:\n",
    "    display(Markdown(response.content))\n",
    "\n"
   ]
  },
  {
   "cell_type": "code",
   "execution_count": 11,
   "metadata": {},
   "outputs": [
    {
     "name": "stdout",
     "output_type": "stream",
     "text": [
      "Initializing model: gpt-4o-mini with temperature: 0\n",
      "Formatted Templates: ['Explain Blockchain in max 2 Bullet points in Hindi', 'Explain Generative AI in max 2 Bullet points in English']\n"
     ]
    },
    {
     "data": {
      "text/markdown": [
       "- **डिसेंट्रलाइजेशन**: ब्लॉकचेन एक वितरित लेज़र तकनीक है, जिसमें डेटा को कई कंप्यूटरों (नोड्स) पर सुरक्षित रूप से स्टोर किया जाता है, जिससे किसी एक व्यक्ति या संस्था का नियंत्रण नहीं होता।\n",
       "\n",
       "- **सुरक्षा और पारदर्शिता**: इसमें डेटा को क्रिप्टोग्राफिक तरीके से सुरक्षित किया जाता है, जिससे जानकारी में बदलाव करना या धोखाधड़ी करना अत्यंत कठिन होता है, और सभी लेनदेन सार्वजनिक रूप से देखे जा सकते हैं।"
      ],
      "text/plain": [
       "<IPython.core.display.Markdown object>"
      ]
     },
     "metadata": {},
     "output_type": "display_data"
    },
    {
     "data": {
      "text/markdown": [
       "- **Definition**: Generative AI refers to a class of artificial intelligence models that can create new content, such as text, images, music, or videos, by learning patterns from existing data.\n",
       "- **Applications**: It is used in various fields, including creative arts, content generation, game design, and even drug discovery, enabling innovative solutions and enhancing productivity."
      ],
      "text/plain": [
       "<IPython.core.display.Markdown object>"
      ]
     },
     "metadata": {},
     "output_type": "display_data"
    }
   ],
   "source": [
    "from IPython.display import display, Markdown\n",
    "from langchain.prompts import PromptTemplate\n",
    "from langchain_openai import ChatOpenAI\n",
    "from langchain.chains import LLMChain\n",
    "\n",
    "# Dynamic initialization of the model during runtime\n",
    "def initialize_model(model_name=\"gpt-4\", temperature=0):\n",
    "    \"\"\"\n",
    "    Function to initialize the model dynamically during runtime.\n",
    "    \"\"\"\n",
    "    print(f\"Initializing model: {model_name} with temperature: {temperature}\")\n",
    "    return ChatOpenAI(model=model_name, temperature=temperature)\n",
    "\n",
    "# Dynamic creation of the prompt template at runtime\n",
    "def create_prompt_template():\n",
    "    \"\"\"\n",
    "    Function to create a prompt template dynamically during runtime.\n",
    "    \"\"\"\n",
    "    prompt = input(\"Enter your prompt template (e.g., 'Explain {topic} in max 2 Bullet points in {language}'): \")\n",
    "    return PromptTemplate.from_template(prompt)\n",
    "\n",
    "# Dynamic input data during runtime (e.g., from user input, file, or any source)\n",
    "def get_input_data():\n",
    "    \"\"\"\n",
    "    Function to gather input data dynamically during runtime.\n",
    "    This could come from a user, file, or any source.\n",
    "    \"\"\"\n",
    "    # For simplicity, we simulate user input here. In a real scenario, this could come from any dynamic source.\n",
    "    input_data = []\n",
    "    num_entries = int(input(\"How many topics would you like to process? \"))\n",
    "    for _ in range(num_entries):\n",
    "        topic = input(f\"Enter topic: \")\n",
    "        language = input(f\"Enter language for '{topic}': \")\n",
    "        input_data.append((topic, language))\n",
    "    return input_data\n",
    "\n",
    "# Function to format the prompt dynamically based on input data\n",
    "def format_template(prompt_template, input_data):\n",
    "    \"\"\"\n",
    "    Function to format the prompt template dynamically with input data.\n",
    "    \"\"\"\n",
    "    return [prompt_template.format(topic=topic, language=language) for topic, language in input_data]\n",
    "\n",
    "# Main execution block\n",
    "def main():\n",
    "    # Step 1: Dynamically initialize the model\n",
    "    model = initialize_model(model_name=\"gpt-4o-mini\", temperature=0)\n",
    "    \n",
    "    # Step 2: Dynamically create the prompt template\n",
    "    prompt_template = create_prompt_template()\n",
    "    \n",
    "    # Step 3: Get dynamic input data\n",
    "    input_data = get_input_data()\n",
    "    \n",
    "    # Step 4: Format the prompt dynamically\n",
    "    formatted_templates = format_template(prompt_template, input_data)\n",
    "    \n",
    "    # Display the formatted templates to verify\n",
    "    print(f\"Formatted Templates: {formatted_templates}\")\n",
    "    \n",
    "    # Step 5: Use the model to invoke the formatted templates\n",
    "    responses = model.map().invoke(formatted_templates)\n",
    "    \n",
    "    # Step 6: Display the responses\n",
    "    for response in responses:\n",
    "        display(Markdown(response.content))\n",
    "\n",
    "# Run the program\n",
    "if __name__ == \"__main__\":\n",
    "    main()\n"
   ]
  },
  {
   "cell_type": "markdown",
   "metadata": {},
   "source": [
    "# CHAT PROMPT TEMPLATE"
   ]
  },
  {
   "cell_type": "code",
   "execution_count": 21,
   "metadata": {},
   "outputs": [
    {
     "name": "stdout",
     "output_type": "stream",
     "text": [
      "Formatted Templates: ['Human: Explain the Generative AI in max 2 bullet points.', 'Human: Explain the Quantum Computing in max 2 bullet points.', 'Human: Explain the Blockchain in max 2 bullet points.']\n",
      "GENERATIVE AI\n"
     ]
    },
    {
     "data": {
      "text/markdown": [
       "- **Definition**: Generative AI refers to algorithms that can create new content, such as text, images, music, or videos, by learning patterns from existing data.\n",
       "- **Applications**: It is used in various fields, including art, entertainment, marketing, and natural language processing, enabling tasks like content generation, design, and personalized recommendations."
      ],
      "text/plain": [
       "<IPython.core.display.Markdown object>"
      ]
     },
     "metadata": {},
     "output_type": "display_data"
    },
    {
     "name": "stdout",
     "output_type": "stream",
     "text": [
      "**************************************************\n",
      "QUANTUM COMPUTING\n"
     ]
    },
    {
     "data": {
      "text/markdown": [
       "- **Quantum Superposition and Entanglement**: Quantum computing leverages the principles of superposition, allowing qubits to exist in multiple states simultaneously, and entanglement, where qubits become interconnected such that the state of one instantly influences the state of another, regardless of distance.\n",
       "\n",
       "- **Exponential Speedup for Certain Problems**: Quantum computers can solve specific complex problems, such as factoring large numbers or simulating quantum systems, significantly faster than classical computers, potentially revolutionizing fields like cryptography, materials science, and optimization."
      ],
      "text/plain": [
       "<IPython.core.display.Markdown object>"
      ]
     },
     "metadata": {},
     "output_type": "display_data"
    },
    {
     "name": "stdout",
     "output_type": "stream",
     "text": [
      "**************************************************\n",
      "BLOCKCHAIN\n"
     ]
    },
    {
     "data": {
      "text/markdown": [
       "- **Decentralized Ledger**: Blockchain is a distributed digital ledger that records transactions across multiple computers, ensuring that the data is secure, transparent, and immutable without a central authority.\n",
       "\n",
       "- **Consensus Mechanism**: Transactions are validated and added to the blockchain through consensus mechanisms (like Proof of Work or Proof of Stake), which require agreement among participants, enhancing trust and security."
      ],
      "text/plain": [
       "<IPython.core.display.Markdown object>"
      ]
     },
     "metadata": {},
     "output_type": "display_data"
    },
    {
     "name": "stdout",
     "output_type": "stream",
     "text": [
      "**************************************************\n"
     ]
    }
   ],
   "source": [
    "prompt = \"Explain the {topic} in max 2 bullet points.\"\n",
    "prompt_template = ChatPromptTemplate.from_template(prompt)\n",
    "input_data = [(\"Generative AI\"), (\"Quantum Computing\"), (\"Blockchain\")]\n",
    "formatted_templates = [prompt_template.format(topic=topic) for topic in input_data]\n",
    "print(f\"Formatted Templates: {formatted_templates}\")\n",
    "responses = chatgpt.map().invoke(formatted_templates)\n",
    "count = 0\n",
    "for response in responses:\n",
    "    print(input_data[count].upper())\n",
    "    display(Markdown(response.content))\n",
    "    count += 1\n",
    "    print(\"*\"*50)"
   ]
  },
  {
   "cell_type": "code",
   "execution_count": 23,
   "metadata": {},
   "outputs": [
    {
     "name": "stdout",
     "output_type": "stream",
     "text": [
      "GENERATIVE AI\n"
     ]
    },
    {
     "data": {
      "text/markdown": [
       "- **Content Creation**: Generative AI refers to algorithms that can create new content, such as text, images, music, or videos, by learning patterns from existing data, enabling applications like chatbots, art generation, and automated writing.\n",
       "\n",
       "- **Deep Learning Techniques**: It often utilizes advanced deep learning models, such as Generative Adversarial Networks (GANs) and transformers, to produce high-quality outputs that can mimic human creativity and style."
      ],
      "text/plain": [
       "<IPython.core.display.Markdown object>"
      ]
     },
     "metadata": {},
     "output_type": "display_data"
    },
    {
     "name": "stdout",
     "output_type": "stream",
     "text": [
      "**************************************************\n",
      "QUANTUM COMPUTING\n"
     ]
    },
    {
     "data": {
      "text/markdown": [
       "- **Quantum Superposition and Entanglement**: Quantum computing leverages the principles of superposition, allowing qubits to exist in multiple states simultaneously, and entanglement, where qubits become interconnected such that the state of one instantly influences the state of another, enabling complex computations that classical computers struggle with.\n",
       "\n",
       "- **Exponential Speedup for Certain Problems**: Quantum computers can solve specific problems, such as factoring large numbers or simulating quantum systems, exponentially faster than classical computers, potentially revolutionizing fields like cryptography, materials science, and optimization."
      ],
      "text/plain": [
       "<IPython.core.display.Markdown object>"
      ]
     },
     "metadata": {},
     "output_type": "display_data"
    },
    {
     "name": "stdout",
     "output_type": "stream",
     "text": [
      "**************************************************\n",
      "BLOCKCHAIN\n"
     ]
    },
    {
     "data": {
      "text/markdown": [
       "- **Decentralized Ledger**: Blockchain is a distributed digital ledger technology that securely records transactions across multiple computers, ensuring that the data is transparent, immutable, and resistant to tampering.\n",
       "\n",
       "- **Consensus Mechanism**: It relies on consensus algorithms (like Proof of Work or Proof of Stake) to validate and confirm transactions, allowing participants to agree on the state of the ledger without the need for a central authority."
      ],
      "text/plain": [
       "<IPython.core.display.Markdown object>"
      ]
     },
     "metadata": {},
     "output_type": "display_data"
    },
    {
     "name": "stdout",
     "output_type": "stream",
     "text": [
      "**************************************************\n"
     ]
    }
   ],
   "source": [
    "# Formatting the prompt template with the input data using invoke command\n",
    "prompt = \"Explain the {topic} in max 2 bullet points.\"\n",
    "prompt_template = ChatPromptTemplate.from_template(prompt)\n",
    "input_data = [(\"Generative AI\"), (\"Quantum Computing\"), (\"Blockchain\")]\n",
    "formatted_templates = [prompt_template.invoke({\"topic\": topic}) for topic in input_data]\n",
    "print(f\"Formatted Templates: {formatted_templates}\")\n",
    "responses = chatgpt.map().invoke(formatted_templates)\n",
    "count = 0\n",
    "for response in responses:\n",
    "    print(input_data[count].upper())\n",
    "    display(Markdown(response.content))\n",
    "    count += 1\n",
    "    print(\"*\"*50)"
   ]
  },
  {
   "cell_type": "code",
   "execution_count": 28,
   "metadata": {},
   "outputs": [
    {
     "name": "stdout",
     "output_type": "stream",
     "text": [
      "HOW TO LEARN STOCK TRADING?\n"
     ]
    },
    {
     "data": {
      "text/markdown": [
       "To learn stock trading, follow these steps:\n",
       "\n",
       "1. **Educate Yourself**: Read books, take online courses, and follow financial news.\n",
       "2. **Understand the Basics**: Learn key concepts like stocks, bonds, ETFs, and market indices.\n",
       "3. **Choose a Trading Style**: Decide between day trading, swing trading, or long-term investing.\n",
       "4. **Practice with a Simulator**: Use a stock market simulator to practice trading without real money.\n",
       "5. **Open a Brokerage Account**: Choose a reputable brokerage to start trading.\n",
       "6. **Start Small**: Begin with a small investment to minimize risk as you learn.\n",
       "7. **Analyze the Market**: Learn to read charts and understand technical and fundamental analysis.\n",
       "8. **Stay Informed**: Keep up with market trends and economic news.\n",
       "\n",
       "Remember to manage risk and invest only what you can afford to lose."
      ],
      "text/plain": [
       "<IPython.core.display.Markdown object>"
      ]
     },
     "metadata": {},
     "output_type": "display_data"
    },
    {
     "name": "stdout",
     "output_type": "stream",
     "text": [
      "**************************************************\n",
      "WHAT IS FINANCIAL MARKET?\n"
     ]
    },
    {
     "data": {
      "text/markdown": [
       "A financial market is a marketplace where buyers and sellers engage in the trading of financial assets such as stocks, bonds, currencies, and derivatives. It facilitates the exchange of capital and liquidity, helping to determine prices and allocate resources in the economy."
      ],
      "text/plain": [
       "<IPython.core.display.Markdown object>"
      ]
     },
     "metadata": {},
     "output_type": "display_data"
    },
    {
     "name": "stdout",
     "output_type": "stream",
     "text": [
      "**************************************************\n"
     ]
    }
   ],
   "source": [
    "# Sending messages\n",
    "messages = [(\"system\",\"Act as a useful assistant and give answer in brief.\"),\n",
    "            (\"human\",\"What is your name ?\"),\n",
    "            (\"ai\",\"My name is AIBOT.\"),\n",
    "            (\"human\",\"{user_prompt}\")\n",
    "            ]\n",
    "template = ChatPromptTemplate.from_messages(messages)\n",
    "input_prompts = [\"How to learn stock trading?\",\"What is financial market?\"]\n",
    "formatted_template = [template.format(user_prompt = input_prompt) for input_prompt in input_prompts] \n",
    "responses = chatgpt.map().invoke(formatted_template)\n",
    "count = 0\n",
    "for response in responses:\n",
    "    print(input_prompts[count].upper())\n",
    "    display(Markdown(response.content))\n",
    "    count += 1\n",
    "    print(\"*\"*50)"
   ]
  },
  {
   "cell_type": "code",
   "execution_count": 29,
   "metadata": {},
   "outputs": [
    {
     "name": "stdout",
     "output_type": "stream",
     "text": [
      "HOW TO LEARN STOCK TRADING?\n"
     ]
    },
    {
     "data": {
      "text/markdown": [
       "To learn stock trading, follow these steps:\n",
       "\n",
       "1. **Educate Yourself**: Read books, take online courses, and follow financial news.\n",
       "2. **Understand the Basics**: Learn key concepts like stocks, bonds, ETFs, and market indices.\n",
       "3. **Study Market Analysis**: Familiarize yourself with technical and fundamental analysis.\n",
       "4. **Practice with Simulators**: Use stock market simulators to practice trading without real money.\n",
       "5. **Start Small**: Begin with a small investment to gain real-world experience.\n",
       "6. **Develop a Strategy**: Create a trading plan based on your risk tolerance and goals.\n",
       "7. **Stay Informed**: Keep up with market trends and economic indicators.\n",
       "8. **Join a Community**: Engage with other traders through forums or local groups for support and insights.\n",
       "\n",
       "Consistency and continuous learning are key to becoming a successful trader."
      ],
      "text/plain": [
       "<IPython.core.display.Markdown object>"
      ]
     },
     "metadata": {},
     "output_type": "display_data"
    },
    {
     "name": "stdout",
     "output_type": "stream",
     "text": [
      "**************************************************\n",
      "WHAT IS FINANCIAL MARKET?\n"
     ]
    },
    {
     "data": {
      "text/markdown": [
       "A financial market is a marketplace where buyers and sellers engage in the trading of financial assets, such as stocks, bonds, currencies, and derivatives. It facilitates the exchange of capital and liquidity, enabling companies to raise funds and investors to earn returns on their investments. Financial markets can be classified into primary and secondary markets, as well as into various segments like equity markets, debt markets, and foreign exchange markets."
      ],
      "text/plain": [
       "<IPython.core.display.Markdown object>"
      ]
     },
     "metadata": {},
     "output_type": "display_data"
    },
    {
     "name": "stdout",
     "output_type": "stream",
     "text": [
      "**************************************************\n"
     ]
    }
   ],
   "source": [
    "# Sending messages (used invoke in prompt template formatting)\n",
    "messages = [(\"system\",\"Act as a useful assistant and give answer in brief.\"),\n",
    "            (\"human\",\"What is your name ?\"),\n",
    "            (\"ai\",\"My name is AIBOT.\"),\n",
    "            (\"human\",\"{user_prompt}\")\n",
    "            ]\n",
    "template = ChatPromptTemplate.from_messages(messages)\n",
    "input_prompts = [\"How to learn stock trading?\",\"What is financial market?\"]\n",
    "formatted_template = [template.invoke({\"user_prompt\" : input_prompt}) for input_prompt in input_prompts]\n",
    "responses = chatgpt.map().invoke(formatted_template)\n",
    "count = 0\n",
    "for response in responses:\n",
    "    print(input_prompts[count].upper())\n",
    "    display(Markdown(response.content))\n",
    "    count += 1\n",
    "    print(\"*\"*50)"
   ]
  },
  {
   "cell_type": "markdown",
   "metadata": {},
   "source": [
    "# Output Parsers"
   ]
  },
  {
   "cell_type": "code",
   "execution_count": 33,
   "metadata": {},
   "outputs": [
    {
     "data": {
      "text/plain": [
       "PydanticOutputParser(pydantic_object=<class '__main__.ChatResponse'>)"
      ]
     },
     "execution_count": 33,
     "metadata": {},
     "output_type": "execute_result"
    }
   ],
   "source": [
    "# Pydantic O/P Parser\n",
    "class ChatResponse(BaseModel):\n",
    "    description: str = Field(description=\"A brief description of the topic asked in the query.\")\n",
    "    pros: str = Field(pros=\"3 bullet points on the topic asked in the query.\")\n",
    "    cons: str = Field(cons=\"3 bullet points on the topic asked in the query.\")\n",
    "    conclusion: str = Field(conclusion=\"A brief summary and future outlook if any on the topic asked in the query.\")\n",
    "\n",
    "# Creating an instance of the PydanticOutputParser\n",
    "output_parser = PydanticOutputParser(pydantic_object = ChatResponse)\n",
    "output_parser\n"
   ]
  },
  {
   "cell_type": "code",
   "execution_count": 34,
   "metadata": {},
   "outputs": [
    {
     "name": "stdout",
     "output_type": "stream",
     "text": [
      "The output should be formatted as a JSON instance that conforms to the JSON schema below.\n",
      "\n",
      "As an example, for the schema {\"properties\": {\"foo\": {\"title\": \"Foo\", \"description\": \"a list of strings\", \"type\": \"array\", \"items\": {\"type\": \"string\"}}}, \"required\": [\"foo\"]}\n",
      "the object {\"foo\": [\"bar\", \"baz\"]} is a well-formatted instance of the schema. The object {\"properties\": {\"foo\": [\"bar\", \"baz\"]}} is not well-formatted.\n",
      "\n",
      "Here is the output schema:\n",
      "```\n",
      "{\"properties\": {\"description\": {\"description\": \"A brief description of the topic asked in the query.\", \"title\": \"Description\", \"type\": \"string\"}, \"pros\": {\"pros\": \"3 bullet points on the topic asked in the query.\", \"title\": \"Pros\", \"type\": \"string\"}, \"cons\": {\"cons\": \"3 bullet points on the topic asked in the query.\", \"title\": \"Cons\", \"type\": \"string\"}, \"conclusion\": {\"conclusion\": \"A brief summary and future outlook if any on the topic asked in the query.\", \"title\": \"Conclusion\", \"type\": \"string\"}}, \"required\": [\"description\", \"pros\", \"cons\", \"conclusion\"]}\n",
      "```\n"
     ]
    }
   ],
   "source": [
    "# instructions send by this output parser to the llm\n",
    "print(output_parser.get_format_instructions())"
   ]
  },
  {
   "cell_type": "code",
   "execution_count": 40,
   "metadata": {},
   "outputs": [],
   "source": [
    "prompt_txt = \"\"\"\n",
    "Answer the query asked by the user in the format prescribed by the formatting instructions:.\n",
    "\n",
    "                    Formatting Instructions:\n",
    "                    {format_instructions}\n",
    "\n",
    "                    Query:\n",
    "                    {query}\n",
    "\"\"\"\n",
    "\n",
    "prompt_template = PromptTemplate(\n",
    "    template=prompt_txt,\n",
    "    input_variables=[\"query\"],\n",
    "    partial_variables={\"format_instructions\":output_parser.get_format_instructions()})\n",
    "# we are using partial variable for the format instructions as this value can be extracted from the output parser\n",
    "input_data = [\"Generative AI\",\"Quantum Computing\",\"Blockchain\"]\n",
    "# formatted_templates = [prompt_template.format(query = topic) for topic in input_data]\n",
    "# print(f\"Formatted Templates: {formatted_templates}\")\n"
   ]
  },
  {
   "cell_type": "code",
   "execution_count": 45,
   "metadata": {},
   "outputs": [
    {
     "name": "stdout",
     "output_type": "stream",
     "text": [
      "description='Generative AI refers to a class of artificial intelligence algorithms that can generate new content, such as text, images, music, and more, based on the data they have been trained on.' pros='- Can create unique and diverse content quickly.\\n- Enhances creativity by providing new ideas and perspectives.\\n- Automates repetitive tasks, saving time and resources.' cons='- May produce biased or inappropriate content based on training data.\\n- Can lead to misinformation if not properly monitored.\\n- Ethical concerns regarding authorship and ownership of generated content.' conclusion='Generative AI is a rapidly evolving field with significant potential to transform various industries. As technology advances, it will be crucial to address ethical concerns and improve the reliability of generated content.'\n",
      "**************************************************\n",
      "description='Quantum computing is a revolutionary technology that leverages the principles of quantum mechanics to process information in fundamentally different ways than classical computers.' pros='1. Exponential speedup for certain computations, such as factoring large numbers and simulating quantum systems.\\n2. Potential to solve complex problems in fields like cryptography, materials science, and drug discovery.\\n3. Ability to perform multiple calculations simultaneously due to superposition and entanglement.' cons='1. Currently, quantum computers are in the experimental stage and are not yet widely available for practical use.\\n2. They are highly sensitive to environmental disturbances, leading to errors in calculations (quantum decoherence).\\n3. Significant investment in research and development is required to make quantum computing practical and accessible.' conclusion='Quantum computing holds great promise for the future of technology, with the potential to revolutionize various industries. However, significant challenges remain in terms of stability, error correction, and practical implementation. Continued research and investment will be crucial in realizing its full potential.'\n",
      "**************************************************\n",
      "description='Blockchain is a decentralized digital ledger technology that securely records transactions across multiple computers, ensuring that the recorded transactions cannot be altered retroactively.' pros='1. Enhanced security through cryptographic techniques.\\n2. Increased transparency and traceability of transactions.\\n3. Reduced costs and increased efficiency by eliminating intermediaries.' cons='1. Scalability issues, as transaction speeds can be slower compared to traditional systems.\\n2. High energy consumption, particularly in proof-of-work systems.\\n3. Regulatory uncertainty and potential legal challenges in various jurisdictions.' conclusion='Blockchain technology has the potential to revolutionize various industries by providing secure and transparent transaction methods. However, challenges such as scalability, energy consumption, and regulatory issues need to be addressed for widespread adoption.'\n",
      "**************************************************\n"
     ]
    }
   ],
   "source": [
    "# Creating an instance of the LLMChain\n",
    "chain = (\n",
    "         prompt_template\n",
    "               |\n",
    "            chatgpt\n",
    "               |\n",
    "         output_parser\n",
    "         )\n",
    "\n",
    "# responses = chain.batch(input_data)\n",
    "for response in responses:\n",
    "    print(response)\n",
    "    print(\"*\"*50)"
   ]
  },
  {
   "cell_type": "code",
   "execution_count": 43,
   "metadata": {},
   "outputs": [
    {
     "data": {
      "text/plain": [
       "[ChatResponse(description='Generative AI refers to a class of artificial intelligence algorithms that can generate new content, such as text, images, music, and more, based on the data they have been trained on.', pros='- Can create unique and diverse content quickly.\\n- Enhances creativity by providing new ideas and perspectives.\\n- Automates repetitive tasks, saving time and resources.', cons='- May produce biased or inappropriate content based on training data.\\n- Can lead to misinformation if not properly monitored.\\n- Ethical concerns regarding authorship and ownership of generated content.', conclusion='Generative AI is a rapidly evolving field with significant potential to transform various industries. As technology advances, it will be crucial to address ethical concerns and improve the reliability of generated content.'),\n",
       " ChatResponse(description='Quantum computing is a revolutionary technology that leverages the principles of quantum mechanics to process information in fundamentally different ways than classical computers.', pros='1. Exponential speedup for certain computations, such as factoring large numbers and simulating quantum systems.\\n2. Potential to solve complex problems in fields like cryptography, materials science, and drug discovery.\\n3. Ability to perform multiple calculations simultaneously due to superposition and entanglement.', cons='1. Currently, quantum computers are in the experimental stage and are not yet widely available for practical use.\\n2. They are highly sensitive to environmental disturbances, leading to errors in calculations (quantum decoherence).\\n3. Significant investment in research and development is required to make quantum computing practical and accessible.', conclusion='Quantum computing holds great promise for the future of technology, with the potential to revolutionize various industries. However, significant challenges remain in terms of stability, error correction, and practical implementation. Continued research and investment will be crucial in realizing its full potential.'),\n",
       " ChatResponse(description='Blockchain is a decentralized digital ledger technology that securely records transactions across multiple computers, ensuring that the recorded transactions cannot be altered retroactively.', pros='1. Enhanced security through cryptographic techniques.\\n2. Increased transparency and traceability of transactions.\\n3. Reduced costs and increased efficiency by eliminating intermediaries.', cons='1. Scalability issues, as transaction speeds can be slower compared to traditional systems.\\n2. High energy consumption, particularly in proof-of-work systems.\\n3. Regulatory uncertainty and potential legal challenges in various jurisdictions.', conclusion='Blockchain technology has the potential to revolutionize various industries by providing secure and transparent transaction methods. However, challenges such as scalability, energy consumption, and regulatory issues need to be addressed for widespread adoption.')]"
      ]
     },
     "execution_count": 43,
     "metadata": {},
     "output_type": "execute_result"
    }
   ],
   "source": [
    "responses"
   ]
  },
  {
   "cell_type": "code",
   "execution_count": 50,
   "metadata": {},
   "outputs": [
    {
     "name": "stdout",
     "output_type": "stream",
     "text": [
      "```json\n",
      "{\n",
      "  \"description\": \"Generative AI refers to a class of artificial intelligence algorithms that can generate new content, such as text, images, music, and more, based on the data they have been trained on.\",\n",
      "  \"pros\": \"- Can create unique and diverse content quickly.\\n- Enhances creativity by providing new ideas and perspectives.\\n- Automates repetitive tasks, saving time and resources.\",\n",
      "  \"cons\": \"- May produce biased or inappropriate content based on training data.\\n- Can lead to misinformation if not properly monitored.\\n- Ethical concerns regarding authorship and ownership of generated content.\",\n",
      "  \"conclusion\": \"Generative AI is a rapidly evolving field with significant potential to transform various industries. As technology advances, it will be crucial to address ethical concerns and improve the reliability of generated content.\"\n",
      "}\n",
      "```\n",
      "**************************************************\n",
      "```json\n",
      "{\n",
      "  \"description\": \"Quantum computing is a revolutionary technology that leverages the principles of quantum mechanics to process information in fundamentally different ways than classical computers.\",\n",
      "  \"pros\": \"1. Exponential speedup for certain computations, such as factoring large numbers and simulating quantum systems.\\n2. Potential to solve complex problems in fields like cryptography, materials science, and drug discovery.\\n3. Ability to perform multiple calculations simultaneously due to superposition and entanglement.\",\n",
      "  \"cons\": \"1. Currently, quantum computers are in the experimental stage and are not yet widely available or practical for everyday use.\\n2. They are highly sensitive to environmental disturbances, leading to errors in calculations (quantum decoherence).\\n3. Significant technical challenges remain in scaling up quantum systems and developing error correction methods.\",\n",
      "  \"conclusion\": \"Quantum computing holds great promise for the future, with the potential to transform industries and solve problems that are currently intractable. However, significant research and development are still needed to overcome existing challenges and make quantum computers practical for widespread use.\"\n",
      "}\n",
      "```\n",
      "**************************************************\n",
      "```json\n",
      "{\n",
      "  \"description\": \"Blockchain is a decentralized digital ledger technology that securely records transactions across multiple computers, ensuring that the recorded transactions cannot be altered retroactively.\",\n",
      "  \"pros\": \"1. Enhanced security through cryptographic techniques.\\n2. Increased transparency and traceability of transactions.\\n3. Reduced costs and increased efficiency by eliminating intermediaries.\",\n",
      "  \"cons\": \"1. Scalability issues, as transaction speeds can be slower compared to traditional systems.\\n2. High energy consumption, particularly in proof-of-work systems.\\n3. Regulatory uncertainty and potential legal challenges in various jurisdictions.\",\n",
      "  \"conclusion\": \"Blockchain technology holds significant promise for various industries, including finance, supply chain, and healthcare. As the technology matures and regulatory frameworks develop, its adoption is expected to grow, potentially transforming how transactions are conducted.\"\n",
      "}\n",
      "```\n",
      "**************************************************\n"
     ]
    }
   ],
   "source": [
    "# Creating an instance of the LLMChain\n",
    "chain = (\n",
    "         prompt_template\n",
    "               |\n",
    "            chatgpt\n",
    "         )\n",
    "\n",
    "# responses = chain.batch(input_data)\n",
    "for response in responses:\n",
    "    print(response.content)\n",
    "    print(\"*\"*50)"
   ]
  },
  {
   "cell_type": "code",
   "execution_count": 47,
   "metadata": {},
   "outputs": [],
   "source": [
    "prompt_txt = \"\"\"\n",
    "Answer the query asked by the user .\n",
    "                    Query:\n",
    "                    {query}\n",
    "\"\"\"\n",
    "\n",
    "prompt_template = PromptTemplate(\n",
    "    template=prompt_txt,\n",
    "    input_variables=[\"query\"],\n",
    "    )\n",
    "# we are using partial variable for the format instructions as this value can be extracted from the output parser\n",
    "input_data = [\"Generative AI\",\"Quantum Computing\",\"Blockchain\"]\n",
    "# formatted_templates = [prompt_template.format(query = topic) for topic in input_data]\n",
    "# print(f\"Formatted Templates: {formatted_templates}\")\n"
   ]
  },
  {
   "cell_type": "code",
   "execution_count": 49,
   "metadata": {},
   "outputs": [
    {
     "name": "stdout",
     "output_type": "stream",
     "text": [
      "```json\n",
      "{\n",
      "  \"description\": \"Generative AI refers to a class of artificial intelligence algorithms that can generate new content, such as text, images, music, and more, based on the data they have been trained on.\",\n",
      "  \"pros\": \"- Can create unique and diverse content quickly.\\n- Enhances creativity by providing new ideas and perspectives.\\n- Automates repetitive tasks, saving time and resources.\",\n",
      "  \"cons\": \"- May produce biased or inappropriate content based on training data.\\n- Can lead to misinformation if not properly monitored.\\n- Ethical concerns regarding authorship and ownership of generated content.\",\n",
      "  \"conclusion\": \"Generative AI is a rapidly evolving field with significant potential to transform various industries. As technology advances, it will be crucial to address ethical concerns and improve the reliability of generated content.\"\n",
      "}\n",
      "```\n",
      "**************************************************\n",
      "```json\n",
      "{\n",
      "  \"description\": \"Quantum computing is a revolutionary technology that leverages the principles of quantum mechanics to process information in fundamentally different ways than classical computers.\",\n",
      "  \"pros\": \"1. Exponential speedup for certain computations, such as factoring large numbers and simulating quantum systems.\\n2. Potential to solve complex problems in fields like cryptography, materials science, and drug discovery.\\n3. Ability to perform multiple calculations simultaneously due to superposition and entanglement.\",\n",
      "  \"cons\": \"1. Currently, quantum computers are in the experimental stage and are not yet widely available or practical for everyday use.\\n2. They are highly sensitive to environmental disturbances, leading to errors in calculations (quantum decoherence).\\n3. Significant technical challenges remain in scaling up quantum systems and developing error correction methods.\",\n",
      "  \"conclusion\": \"Quantum computing holds great promise for the future, with the potential to transform industries and solve problems that are currently intractable. However, significant research and development are still needed to overcome existing challenges and make quantum computers practical for widespread use.\"\n",
      "}\n",
      "```\n",
      "**************************************************\n",
      "```json\n",
      "{\n",
      "  \"description\": \"Blockchain is a decentralized digital ledger technology that securely records transactions across multiple computers, ensuring that the recorded transactions cannot be altered retroactively.\",\n",
      "  \"pros\": \"1. Enhanced security through cryptographic techniques.\\n2. Increased transparency and traceability of transactions.\\n3. Reduced costs and increased efficiency by eliminating intermediaries.\",\n",
      "  \"cons\": \"1. Scalability issues, as transaction speeds can be slower compared to traditional systems.\\n2. High energy consumption, particularly in proof-of-work systems.\\n3. Regulatory uncertainty and potential legal challenges in various jurisdictions.\",\n",
      "  \"conclusion\": \"Blockchain technology holds significant promise for various industries, including finance, supply chain, and healthcare. As the technology matures and regulatory frameworks develop, its adoption is expected to grow, potentially transforming how transactions are conducted.\"\n",
      "}\n",
      "```\n",
      "**************************************************\n"
     ]
    }
   ],
   "source": [
    "# Creating an instance of the LLMChain\n",
    "chain = (\n",
    "         prompt_template\n",
    "               |\n",
    "            chatgpt\n",
    "               |\n",
    "         output_parser\n",
    "         )\n",
    "\n",
    "# responses = chain.batch(input_data)\n",
    "for response in responses:\n",
    "    print(response.content)\n",
    "    print(\"*\"*50)"
   ]
  },
  {
   "cell_type": "code",
   "execution_count": 55,
   "metadata": {},
   "outputs": [
    {
     "data": {
      "text/plain": [
       "'```json\\n{\\n  \"description\": \"Generative AI refers to a class of artificial intelligence algorithms that can generate new content, such as text, images, music, and more, based on the data they have been trained on.\",\\n  \"pros\": \"- Can create unique and diverse content quickly.\\\\n- Enhances creativity by providing new ideas and perspectives.\\\\n- Automates repetitive tasks, saving time and resources.\",\\n  \"cons\": \"- May produce biased or inappropriate content based on training data.\\\\n- Can lead to misinformation if not properly monitored.\\\\n- Ethical concerns regarding authorship and ownership of generated content.\",\\n  \"conclusion\": \"Generative AI is a rapidly evolving field with significant potential to transform various industries. As technology advances, it will be crucial to address ethical concerns and improve the reliability of generated content.\"\\n}\\n```'"
      ]
     },
     "execution_count": 55,
     "metadata": {},
     "output_type": "execute_result"
    }
   ],
   "source": [
    "responses[0].content"
   ]
  },
  {
   "cell_type": "code",
   "execution_count": 56,
   "metadata": {},
   "outputs": [
    {
     "name": "stdout",
     "output_type": "stream",
     "text": [
      "Formatted Templates: [{'query': 'Generative AI'}, {'query': 'Quantum Computing'}, {'query': 'Blockchain'}]\n"
     ]
    }
   ],
   "source": [
    "prompt_txt = \"\"\"\n",
    "Answer the query asked by the user in the format prescribed by the formatting instructions:.\n",
    "\n",
    "                    Formatting Instructions:\n",
    "                    {format_instructions}\n",
    "\n",
    "                    Query:\n",
    "                    {query}\n",
    "\"\"\"\n",
    "\n",
    "prompt_template = PromptTemplate(\n",
    "    template=prompt_txt,\n",
    "    input_variables=[\"query\"],\n",
    "    partial_variables={\"format_instructions\":output_parser.get_format_instructions()})\n",
    "# we are using partial variable for the format instructions as this value can be extracted from the output parser\n",
    "input_data = [\"Generative AI\",\"Quantum Computing\",\"Blockchain\"]\n",
    "\n",
    "# Creating an instance of the LLMChain\n",
    "chain = (\n",
    "         prompt_template\n",
    "               |\n",
    "            chatgpt\n",
    "               |\n",
    "         output_parser\n",
    "         )\n",
    "\n",
    "formatted_templates = [{\"query\": topic} for topic in input_data]\n",
    "print(f\"Formatted Templates: {formatted_templates}\")\n"
   ]
  },
  {
   "cell_type": "code",
   "execution_count": 57,
   "metadata": {},
   "outputs": [
    {
     "name": "stdout",
     "output_type": "stream",
     "text": [
      "[ChatResponse(description='Generative AI refers to a class of artificial intelligence algorithms that can generate new content, such as text, images, music, and more, based on the data they have been trained on.', pros='- Can create unique and diverse content quickly.\\n- Enhances creativity by providing new ideas and perspectives.\\n- Automates repetitive tasks, saving time and resources.', cons='- May produce biased or inappropriate content based on training data.\\n- Can lead to misinformation if not properly monitored.\\n- Ethical concerns regarding authorship and ownership of generated content.', conclusion='Generative AI is a powerful tool with the potential to revolutionize various industries. However, it is essential to address the ethical implications and ensure responsible use as the technology continues to evolve.'), ChatResponse(description='Quantum computing is a revolutionary technology that leverages the principles of quantum mechanics to process information in fundamentally different ways than classical computers.', pros='1. Exponential speedup for certain computations, such as factoring large numbers and simulating quantum systems.\\n2. Potential to solve complex problems in fields like cryptography, materials science, and drug discovery.\\n3. Ability to perform multiple calculations simultaneously due to superposition and entanglement.', cons='1. Currently, quantum computers are in the experimental stage and are not yet widely available for practical use.\\n2. They are highly sensitive to environmental disturbances, leading to errors in calculations (quantum decoherence).\\n3. Significant investment in research and development is required to make quantum computing practical and accessible.', conclusion='Quantum computing holds great promise for the future of technology, with the potential to revolutionize various industries. However, significant challenges remain in terms of stability, error correction, and practical implementation. Continued research and investment will be crucial in realizing its full potential.'), ChatResponse(description='Blockchain is a decentralized digital ledger technology that securely records transactions across multiple computers, ensuring that the recorded transactions cannot be altered retroactively.', pros='1. Enhanced security through cryptographic techniques.\\n2. Increased transparency and traceability of transactions.\\n3. Reduced costs and increased efficiency by eliminating intermediaries.', cons='1. Scalability issues, as transaction speeds can be slower compared to traditional systems.\\n2. High energy consumption, particularly in proof-of-work systems.\\n3. Regulatory uncertainty and potential legal challenges in various jurisdictions.', conclusion='Blockchain technology holds significant promise for various industries, including finance, supply chain, and healthcare. As the technology matures and regulatory frameworks develop, its adoption is expected to grow, potentially transforming how transactions are conducted.')]\n"
     ]
    }
   ],
   "source": [
    "responses = chain.map().invoke(formatted_templates)\n",
    "print(responses)"
   ]
  },
  {
   "cell_type": "code",
   "execution_count": 60,
   "metadata": {},
   "outputs": [
    {
     "data": {
      "text/plain": [
       "{'description': 'Generative AI refers to a class of artificial intelligence algorithms that can generate new content, such as text, images, music, and more, based on the data they have been trained on.',\n",
       " 'pros': '- Can create unique and diverse content quickly.\\n- Enhances creativity by providing new ideas and perspectives.\\n- Automates repetitive tasks, saving time and resources.',\n",
       " 'cons': '- May produce biased or inappropriate content based on training data.\\n- Can lead to misinformation if not properly monitored.\\n- Ethical concerns regarding authorship and ownership of generated content.',\n",
       " 'conclusion': 'Generative AI is a powerful tool with the potential to revolutionize various industries. However, it is essential to address the ethical implications and ensure responsible use as the technology continues to evolve.'}"
      ]
     },
     "execution_count": 60,
     "metadata": {},
     "output_type": "execute_result"
    }
   ],
   "source": [
    "responses[0].model_dump() # dict is depricated use model_dump"
   ]
  },
  {
   "cell_type": "code",
   "execution_count": 61,
   "metadata": {},
   "outputs": [
    {
     "name": "stdout",
     "output_type": "stream",
     "text": [
      "{'description': 'Generative AI refers to a class of artificial intelligence algorithms that can generate new content, such as text, images, music, and more, based on the data they have been trained on.', 'pros': '- Can create unique and diverse content quickly.\\n- Enhances creativity by providing new ideas and perspectives.\\n- Automates repetitive tasks, saving time and resources.', 'cons': '- May produce biased or inappropriate content based on training data.\\n- Can lead to misinformation if not properly monitored.\\n- Ethical concerns regarding authorship and ownership of generated content.', 'conclusion': 'Generative AI is a powerful tool with the potential to revolutionize various industries. However, it is essential to address the ethical implications and ensure responsible use as the technology continues to evolve.'}\n"
     ]
    }
   ],
   "source": [
    "print(responses[0].model_dump())"
   ]
  },
  {
   "cell_type": "code",
   "execution_count": 62,
   "metadata": {},
   "outputs": [
    {
     "name": "stdout",
     "output_type": "stream",
     "text": [
      "description:\n",
      "Generative AI refers to a class of artificial intelligence algorithms that can generate new content, such as text, images, music, and more, based on the data they have been trained on.\n",
      "\n",
      "pros:\n",
      "- Can create unique and diverse content quickly.\n",
      "- Enhances creativity by providing new ideas and perspectives.\n",
      "- Automates repetitive tasks, saving time and resources.\n",
      "\n",
      "cons:\n",
      "- May produce biased or inappropriate content based on training data.\n",
      "- Can lead to misinformation if not properly monitored.\n",
      "- Ethical concerns regarding authorship and ownership of generated content.\n",
      "\n",
      "conclusion:\n",
      "Generative AI is a powerful tool with the potential to revolutionize various industries. However, it is essential to address the ethical implications and ensure responsible use as the technology continues to evolve.\n",
      "\n"
     ]
    }
   ],
   "source": [
    "for k,v in responses[0].model_dump().items():\n",
    "    print(f\"{k}:\\n{v}\\n\")"
   ]
  },
  {
   "cell_type": "code",
   "execution_count": 74,
   "metadata": {},
   "outputs": [],
   "source": [
    "import pandas as pd\n",
    "df = pd.DataFrame(responses[0]).transpose()"
   ]
  },
  {
   "cell_type": "code",
   "execution_count": 75,
   "metadata": {},
   "outputs": [
    {
     "data": {
      "text/html": [
       "<div>\n",
       "<style scoped>\n",
       "    .dataframe tbody tr th:only-of-type {\n",
       "        vertical-align: middle;\n",
       "    }\n",
       "\n",
       "    .dataframe tbody tr th {\n",
       "        vertical-align: top;\n",
       "    }\n",
       "\n",
       "    .dataframe thead th {\n",
       "        text-align: right;\n",
       "    }\n",
       "</style>\n",
       "<table border=\"1\" class=\"dataframe\">\n",
       "  <thead>\n",
       "    <tr style=\"text-align: right;\">\n",
       "      <th></th>\n",
       "      <th>0</th>\n",
       "      <th>1</th>\n",
       "      <th>2</th>\n",
       "      <th>3</th>\n",
       "    </tr>\n",
       "  </thead>\n",
       "  <tbody>\n",
       "    <tr>\n",
       "      <th>0</th>\n",
       "      <td>description</td>\n",
       "      <td>pros</td>\n",
       "      <td>cons</td>\n",
       "      <td>conclusion</td>\n",
       "    </tr>\n",
       "    <tr>\n",
       "      <th>1</th>\n",
       "      <td>Generative AI refers to a class of artificial ...</td>\n",
       "      <td>- Can create unique and diverse content quickl...</td>\n",
       "      <td>- May produce biased or inappropriate content ...</td>\n",
       "      <td>Generative AI is a powerful tool with the pote...</td>\n",
       "    </tr>\n",
       "  </tbody>\n",
       "</table>\n",
       "</div>"
      ],
      "text/plain": [
       "                                                   0  \\\n",
       "0                                        description   \n",
       "1  Generative AI refers to a class of artificial ...   \n",
       "\n",
       "                                                   1  \\\n",
       "0                                               pros   \n",
       "1  - Can create unique and diverse content quickl...   \n",
       "\n",
       "                                                   2  \\\n",
       "0                                               cons   \n",
       "1  - May produce biased or inappropriate content ...   \n",
       "\n",
       "                                                   3  \n",
       "0                                         conclusion  \n",
       "1  Generative AI is a powerful tool with the pote...  "
      ]
     },
     "execution_count": 75,
     "metadata": {},
     "output_type": "execute_result"
    }
   ],
   "source": [
    "df"
   ]
  },
  {
   "cell_type": "markdown",
   "metadata": {},
   "source": [
    "# Advance Operations with Langchain"
   ]
  },
  {
   "cell_type": "code",
   "execution_count": 83,
   "metadata": {},
   "outputs": [
    {
     "name": "stdout",
     "output_type": "stream",
     "text": [
      "content='Generative AI refers to a class of artificial intelligence models that can create new content, such as text, images, or music, by learning patterns and structures from existing data.' additional_kwargs={'refusal': None} response_metadata={'token_usage': {'completion_tokens': 36, 'prompt_tokens': 16, 'total_tokens': 52, 'completion_tokens_details': {'accepted_prediction_tokens': 0, 'audio_tokens': 0, 'reasoning_tokens': 0, 'rejected_prediction_tokens': 0}, 'prompt_tokens_details': {'audio_tokens': 0, 'cached_tokens': 0}}, 'model_name': 'gpt-4o-mini-2024-07-18', 'system_fingerprint': 'fp_0aa8d3e20b', 'finish_reason': 'stop', 'logprobs': None} id='run-fc838c76-2f23-4a99-aac3-61b942cb26d8-0' usage_metadata={'input_tokens': 16, 'output_tokens': 36, 'total_tokens': 52, 'input_token_details': {'audio': 0, 'cache_read': 0}, 'output_token_details': {'audio': 0, 'reasoning': 0}}\n",
      "Cost: Tokens Used: 52\n",
      "\tPrompt Tokens: 16\n",
      "\t\tPrompt Tokens Cached: 0\n",
      "\tCompletion Tokens: 36\n",
      "\t\tReasoning Tokens: 0\n",
      "Successful Requests: 1\n",
      "Total Cost (USD): $2.3999999999999997e-05\n"
     ]
    }
   ],
   "source": [
    "# Tracking llm costs\n",
    "prompt = \"Explain Generative AI in exactly one sentence.\"\n",
    "\n",
    "with get_openai_callback() as cb:\n",
    "    response = chatgpt.invoke(prompt)\n",
    "    print(response)\n",
    "    print(f\"Cost: {cb}\")"
   ]
  },
  {
   "cell_type": "code",
   "execution_count": 82,
   "metadata": {},
   "outputs": [],
   "source": [
    "# caching the output of llm in memory\n",
    "set_llm_cache(InMemoryCache())"
   ]
  },
  {
   "cell_type": "code",
   "execution_count": 85,
   "metadata": {},
   "outputs": [
    {
     "name": "stdout",
     "output_type": "stream",
     "text": [
      "content='Generative AI refers to a class of artificial intelligence models that can create new content, such as text, images, or music, by learning patterns and structures from existing data.' additional_kwargs={'refusal': None} response_metadata={'token_usage': {'completion_tokens': 36, 'prompt_tokens': 16, 'total_tokens': 52, 'completion_tokens_details': {'accepted_prediction_tokens': 0, 'audio_tokens': 0, 'reasoning_tokens': 0, 'rejected_prediction_tokens': 0}, 'prompt_tokens_details': {'audio_tokens': 0, 'cached_tokens': 0}}, 'model_name': 'gpt-4o-mini-2024-07-18', 'system_fingerprint': 'fp_0aa8d3e20b', 'finish_reason': 'stop', 'logprobs': None} id='run-fc838c76-2f23-4a99-aac3-61b942cb26d8-0' usage_metadata={'input_tokens': 16, 'output_tokens': 36, 'total_tokens': 52, 'input_token_details': {'audio': 0, 'cache_read': 0}, 'output_token_details': {'audio': 0, 'reasoning': 0}}\n",
      "Cost: Tokens Used: 52\n",
      "\tPrompt Tokens: 16\n",
      "\t\tPrompt Tokens Cached: 0\n",
      "\tCompletion Tokens: 36\n",
      "\t\tReasoning Tokens: 0\n",
      "Successful Requests: 1\n",
      "Total Cost (USD): $2.3999999999999997e-05\n"
     ]
    }
   ],
   "source": [
    "response = chatgpt.invoke(prompt)\n",
    "print(response)\n",
    "print(f\"Cost: {cb}\")"
   ]
  },
  {
   "cell_type": "code",
   "execution_count": null,
   "metadata": {},
   "outputs": [],
   "source": []
  }
 ],
 "metadata": {
  "kernelspec": {
   "display_name": ".venv",
   "language": "python",
   "name": "python3"
  },
  "language_info": {
   "codemirror_mode": {
    "name": "ipython",
    "version": 3
   },
   "file_extension": ".py",
   "mimetype": "text/x-python",
   "name": "python",
   "nbconvert_exporter": "python",
   "pygments_lexer": "ipython3",
   "version": "3.13.1"
  }
 },
 "nbformat": 4,
 "nbformat_minor": 2
}
