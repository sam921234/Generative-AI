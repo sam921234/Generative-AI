{
 "cells": [
  {
   "cell_type": "markdown",
   "metadata": {},
   "source": [
    "You are building an AI system to be able to look at customer reviews and do some complex analysis. for each review get ChatGPT to do the following:\n",
    "\n",
    "  - Summarize the review. The summary should be at most 3 lines.\n",
    "  - Highlight both the positives and negatives\n",
    "  - Display the overall sentiment of the review (positive, negative, neutral)\n",
    "  - Display a list of 3 - 5 emotions expressed by the customer in the review\n",
    "  - If the sentiment is positive or neutral write an email and thank them for the review\n",
    "  - If the sentiment is negative apologize and write an email with an appropriate response\n",
    "\n",
    "Try to get the response in a nice structured format using an output parser"
   ]
  },
  {
   "cell_type": "code",
   "execution_count": 1,
   "metadata": {},
   "outputs": [],
   "source": [
    "# Importing the relevant libraries\n",
    "import os\n",
    "from dotenv import load_dotenv\n",
    "import langchain\n",
    "from langchain_openai import OpenAI, ChatOpenAI\n",
    "from langchain_core.prompts import PromptTemplate, ChatPromptTemplate\n",
    "from langchain_core.messages import HumanMessage, SystemMessage\n",
    "from IPython.display import display, Markdown\n",
    "from pydantic import BaseModel, Field\n",
    "from langchain_core.output_parsers import PydanticOutputParser\n",
    "from langchain_community.callbacks import get_openai_callback\n",
    "from langchain_core.globals import set_llm_cache\n",
    "from langchain_core.caches import InMemoryCache\n"
   ]
  },
  {
   "cell_type": "code",
   "execution_count": 2,
   "metadata": {},
   "outputs": [
    {
     "data": {
      "text/plain": [
       "True"
      ]
     },
     "execution_count": 2,
     "metadata": {},
     "output_type": "execute_result"
    }
   ],
   "source": [
    "# loading the environment variables\n",
    "load_dotenv()"
   ]
  },
  {
   "cell_type": "code",
   "execution_count": 3,
   "metadata": {},
   "outputs": [],
   "source": [
    "# Interfacing with chat models\n",
    "chatgpt = ChatOpenAI(model = \"gpt-4o-mini\",temperature = 0)"
   ]
  },
  {
   "cell_type": "code",
   "execution_count": 10,
   "metadata": {},
   "outputs": [],
   "source": [
    "set_llm_cache(InMemoryCache())"
   ]
  },
  {
   "cell_type": "code",
   "execution_count": 4,
   "metadata": {},
   "outputs": [],
   "source": [
    "## Reviews\n",
    "reviews = [\n",
    "    f\"\"\"\n",
    "    Just received the Bluetooth speaker I ordered for beach outings, and it's fantastic.\n",
    "    The sound quality is impressively clear with just the right amount of bass.\n",
    "    It's also waterproof, which tested true during a recent splashing incident.\n",
    "    Though it's compact, the volume can really fill the space.\n",
    "    The price was a bargain for such high-quality sound.\n",
    "    Shipping was also on point, arriving two days early in secure packaging.\n",
    "    \"\"\",\n",
    "    f\"\"\"\n",
    "    Purchased a new gaming keyboard because of its rave reviews about responsiveness and backlighting.\n",
    "    It hasn't disappointed. The keys have a satisfying click and the LED colors are vibrant,\n",
    "    enhancing my gaming experience significantly. Price-wise, it's quite competitive,\n",
    "    and I feel like I got a good deal. The delivery was swift, and it came well-protected,\n",
    "    ensuring no damage during transport.\n",
    "    \"\"\",\n",
    "    f\"\"\"\n",
    "    Ordered a set of wireless earbuds for running, and they've been a letdown.\n",
    "    The sound constantly cuts out, and the fit is uncomfortable after only a few minutes of use.\n",
    "    They advertised a 12-hour battery life, but I'm barely getting four hours.\n",
    "    Considering the cost, I expected better quality and performance.\n",
    "    They did arrive on time, but the positives end there. I'm already looking into a return.\n",
    "    \"\"\",\n",
    "    f\"\"\"\n",
    "    The tablet stand I bought was touted as being sturdy and adjustable,\n",
    "    but it's anything but. It wobbles with the slightest touch,\n",
    "    and the angles are not holding up as promised. It feels like a breeze could knock it over.\n",
    "    It was also pricier than others I've seen, which adds to the disappointment.\n",
    "    It did arrive promptly, but what's the use if the product doesn't meet basic expectations?\n",
    "    \"\"\",\n",
    "    f\"\"\"\n",
    "    Needed a new kitchen blender, but this model has been a nightmare.\n",
    "    It's supposed to handle various foods, but it struggles with anything tougher than cooked vegetables.\n",
    "    It's also incredibly noisy, and the 'easy-clean' feature is a joke; food gets stuck under the blades constantly.\n",
    "    I thought the brand meant quality, but this product has proven me wrong.\n",
    "    Plus, it arrived three days late. Definitely not worth the expense.\n",
    "    \"\"\"\n",
    "]"
   ]
  },
  {
   "cell_type": "code",
   "execution_count": 5,
   "metadata": {},
   "outputs": [],
   "source": [
    "# Output Parser\n",
    "class  output_parser(BaseModel):\n",
    "    Summary: str = Field(description=\"Summarize the review. The summary should be at most 3 lines\")\n",
    "    positives: str = Field(description=\"Extract the lines that talk about the positives of the product\")\n",
    "    negatives: str = Field(description=\"Extract the lines that talk about the negatives of the product\")\n",
    "    sentiment: str = Field(description=\"Display the overall sentiment of the review (positive, negative, neutral)\")\n",
    "    emotions: str = Field(description=\"Display a list of 3 - 5 emotions expressed by the customer in the review\")\n",
    "    email: str = Field(description=\"If the sentiment is positive or neutral write an email and thank them for the review and if the sentiment is negative apologize and write an email with an appropriate response\")\n",
    "\n",
    "parser = PydanticOutputParser(pydantic_object = output_parser)\n",
    "    "
   ]
  },
  {
   "cell_type": "code",
   "execution_count": 7,
   "metadata": {},
   "outputs": [
    {
     "data": {
      "text/plain": [
       "'The output should be formatted as a JSON instance that conforms to the JSON schema below.\\n\\nAs an example, for the schema {\"properties\": {\"foo\": {\"title\": \"Foo\", \"description\": \"a list of strings\", \"type\": \"array\", \"items\": {\"type\": \"string\"}}}, \"required\": [\"foo\"]}\\nthe object {\"foo\": [\"bar\", \"baz\"]} is a well-formatted instance of the schema. The object {\"properties\": {\"foo\": [\"bar\", \"baz\"]}} is not well-formatted.\\n\\nHere is the output schema:\\n```\\n{\"properties\": {\"Summary\": {\"description\": \"Summarize the review. The summary should be at most 3 lines\", \"title\": \"Summary\", \"type\": \"string\"}, \"positives\": {\"description\": \"Extract the lines that talk about the positives of the product\", \"title\": \"Positives\", \"type\": \"string\"}, \"negatives\": {\"description\": \"Extract the lines that talk about the negatives of the product\", \"title\": \"Negatives\", \"type\": \"string\"}, \"sentiment\": {\"description\": \"Display the overall sentiment of the review (positive, negative, neutral)\", \"title\": \"Sentiment\", \"type\": \"string\"}, \"emotions\": {\"description\": \"Display a list of 3 - 5 emotions expressed by the customer in the review\", \"title\": \"Emotions\", \"type\": \"string\"}, \"email\": {\"description\": \"If the sentiment is positive or neutral write an email and thank them for the review and if the sentiment is negative apologize and write an email with an appropriate response\", \"title\": \"Email\", \"type\": \"string\"}}, \"required\": [\"Summary\", \"positives\", \"negatives\", \"sentiment\", \"emotions\", \"email\"]}\\n```'"
      ]
     },
     "execution_count": 7,
     "metadata": {},
     "output_type": "execute_result"
    }
   ],
   "source": [
    "parser.get_format_instructions()"
   ]
  },
  {
   "cell_type": "code",
   "execution_count": 17,
   "metadata": {},
   "outputs": [],
   "source": [
    "# Prompt\n",
    "\n",
    "prompt = \"\"\"Act as an AI assistant for a customer service representative at an online store.\n",
    "            The representative has received a review from a customer who purchased a product from the store.\n",
    "            Also remember to write a detailed email response for the email field based on these conditions:\n",
    "               - email should be addressed to Dear Customer and signed with Service Agent\n",
    "               - thank them if the review is positive or neutral\n",
    "               - apologize if the review is negative\n",
    "            \n",
    "            Format the output as per the formatting guidelines provided below:\n",
    "                                {Formatting_Guidelines}\n",
    "\n",
    "                                The review is as follows:\n",
    "                                        {Review}\n",
    "        \"\"\"\n",
    "\n",
    "template = PromptTemplate(\n",
    "                          template = prompt,\n",
    "                          input_variables= [\"Review\"],\n",
    "                          partial_variables={\"Formatting_Guidelines\": parser.get_format_instructions()},\n",
    "                        )\n"
   ]
  },
  {
   "cell_type": "code",
   "execution_count": 18,
   "metadata": {},
   "outputs": [
    {
     "name": "stdout",
     "output_type": "stream",
     "text": [
      "[{'Review': \"\\n    Just received the Bluetooth speaker I ordered for beach outings, and it's fantastic.\\n    The sound quality is impressively clear with just the right amount of bass.\\n    It's also waterproof, which tested true during a recent splashing incident.\\n    Though it's compact, the volume can really fill the space.\\n    The price was a bargain for such high-quality sound.\\n    Shipping was also on point, arriving two days early in secure packaging.\\n    \"}, {'Review': \"\\n    Purchased a new gaming keyboard because of its rave reviews about responsiveness and backlighting.\\n    It hasn't disappointed. The keys have a satisfying click and the LED colors are vibrant,\\n    enhancing my gaming experience significantly. Price-wise, it's quite competitive,\\n    and I feel like I got a good deal. The delivery was swift, and it came well-protected,\\n    ensuring no damage during transport.\\n    \"}, {'Review': \"\\n    Ordered a set of wireless earbuds for running, and they've been a letdown.\\n    The sound constantly cuts out, and the fit is uncomfortable after only a few minutes of use.\\n    They advertised a 12-hour battery life, but I'm barely getting four hours.\\n    Considering the cost, I expected better quality and performance.\\n    They did arrive on time, but the positives end there. I'm already looking into a return.\\n    \"}, {'Review': \"\\n    The tablet stand I bought was touted as being sturdy and adjustable,\\n    but it's anything but. It wobbles with the slightest touch,\\n    and the angles are not holding up as promised. It feels like a breeze could knock it over.\\n    It was also pricier than others I've seen, which adds to the disappointment.\\n    It did arrive promptly, but what's the use if the product doesn't meet basic expectations?\\n    \"}, {'Review': \"\\n    Needed a new kitchen blender, but this model has been a nightmare.\\n    It's supposed to handle various foods, but it struggles with anything tougher than cooked vegetables.\\n    It's also incredibly noisy, and the 'easy-clean' feature is a joke; food gets stuck under the blades constantly.\\n    I thought the brand meant quality, but this product has proven me wrong.\\n    Plus, it arrived three days late. Definitely not worth the expense.\\n    \"}]\n"
     ]
    }
   ],
   "source": [
    "# Creating the chain\n",
    "chain = (\n",
    "    template\n",
    "       |\n",
    "    chatgpt\n",
    "       |\n",
    "     parser\n",
    ")\n",
    "\n",
    "inputs = [{\"Review\" : Review} for Review in reviews]\n",
    "print(inputs)"
   ]
  },
  {
   "cell_type": "code",
   "execution_count": 19,
   "metadata": {},
   "outputs": [],
   "source": [
    "response = chain.map().invoke(inputs)"
   ]
  },
  {
   "cell_type": "code",
   "execution_count": 20,
   "metadata": {},
   "outputs": [
    {
     "name": "stdout",
     "output_type": "stream",
     "text": [
      "{'Summary': 'The customer is very pleased with the Bluetooth speaker, highlighting its sound quality, waterproof feature, and value for money. They also appreciated the prompt shipping.', 'positives': \"The sound quality is impressively clear with just the right amount of bass. It's also waterproof, which tested true during a recent splashing incident. The price was a bargain for such high-quality sound. Shipping was also on point, arriving two days early in secure packaging.\", 'negatives': '', 'sentiment': 'positive', 'emotions': 'satisfaction, excitement, appreciation', 'email': \"Dear Customer,\\n\\nThank you so much for your wonderful review! We're thrilled to hear that you are enjoying your Bluetooth speaker and that it met your expectations in terms of sound quality and waterproof features. We also appreciate your kind words about our shipping service. Your satisfaction is our top priority, and we look forward to serving you again in the future!\\n\\nBest regards,\\nService Agent\"}\n",
      "\n",
      "\n",
      "{'Summary': 'The customer is very satisfied with their new gaming keyboard, highlighting its responsiveness, vibrant backlighting, and competitive pricing. They also appreciated the swift delivery and protective packaging.', 'positives': \"The keys have a satisfying click and the LED colors are vibrant, enhancing my gaming experience significantly. Price-wise, it's quite competitive, and I feel like I got a good deal. The delivery was swift, and it came well-protected, ensuring no damage during transport.\", 'negatives': '', 'sentiment': 'positive', 'emotions': 'satisfaction, excitement, appreciation', 'email': \"Dear Customer,\\n\\nThank you for your wonderful review! We're thrilled to hear that you are enjoying your new gaming keyboard and that it has met your expectations in terms of responsiveness and backlighting. Your satisfaction is our top priority, and we appreciate your feedback on the swift delivery and packaging as well.\\n\\nIf you have any further questions or need assistance, please don't hesitate to reach out.\\n\\nBest regards,\\nService Agent\"}\n",
      "\n",
      "\n",
      "{'Summary': 'The customer is disappointed with the wireless earbuds due to sound issues, uncomfortable fit, and poor battery life. They are considering a return.', 'positives': 'They did arrive on time.', 'negatives': \"The sound constantly cuts out, and the fit is uncomfortable after only a few minutes of use. They advertised a 12-hour battery life, but I'm barely getting four hours. Considering the cost, I expected better quality and performance.\", 'sentiment': 'negative', 'emotions': 'disappointment, frustration, dissatisfaction', 'email': 'Dear Customer,\\n\\nThank you for your feedback regarding the wireless earbuds. We sincerely apologize for the issues you have experienced with the sound quality, fit, and battery life. Your satisfaction is important to us, and we would like to assist you in resolving this matter. Please let us know how we can help, whether it be a return or an exchange.\\n\\nThank you for bringing this to our attention.\\n\\nBest regards,\\nService Agent'}\n",
      "\n",
      "\n",
      "{'Summary': \"The customer expressed disappointment with the tablet stand, citing issues with stability and adjustability. They also mentioned the product's high price and questioned its value despite prompt delivery.\", 'positives': 'It did arrive promptly.', 'negatives': \"It wobbles with the slightest touch, and the angles are not holding up as promised. It feels like a breeze could knock it over. It was also pricier than others I've seen, which adds to the disappointment.\", 'sentiment': 'negative', 'emotions': 'disappointment, frustration, dissatisfaction, concern', 'email': 'Dear Customer,\\n\\nThank you for taking the time to share your feedback regarding the tablet stand. I sincerely apologize for the issues you experienced with its stability and adjustability. We strive to provide high-quality products, and I regret that we did not meet your expectations in this instance. Your comments are invaluable, and I will ensure they are passed along to our product team for review.\\n\\nIf you would like to discuss this further or explore options for a return or exchange, please feel free to reach out.\\n\\nThank you for your understanding.\\n\\nBest regards,\\nService Agent'}\n",
      "\n",
      "\n",
      "{'Summary': 'The customer had a negative experience with the kitchen blender, citing performance issues and delivery delays.', 'positives': '', 'negatives': \"Struggles with tougher foods, incredibly noisy, ineffective 'easy-clean' feature, arrived three days late.\", 'sentiment': 'negative', 'emotions': 'frustration, disappointment, dissatisfaction, anger', 'email': \"Dear Customer,\\n\\nThank you for taking the time to share your feedback regarding the kitchen blender. I sincerely apologize for the issues you experienced with the product, including its performance and the delay in delivery. We strive to provide quality products and service, and I regret that we fell short in this instance. Your feedback is invaluable, and we will use it to improve our offerings.\\n\\nIf there's anything further we can do to assist you, please don't hesitate to reach out.\\n\\nBest regards,\\nService Agent\"}\n",
      "\n",
      "\n"
     ]
    }
   ],
   "source": [
    "for i in response:\n",
    "    print(i.model_dump())\n",
    "    print(\"\\n\")"
   ]
  },
  {
   "cell_type": "code",
   "execution_count": 21,
   "metadata": {},
   "outputs": [
    {
     "data": {
      "text/plain": [
       "{'Summary': 'The customer is very pleased with the Bluetooth speaker, highlighting its sound quality, waterproof feature, and value for money. They also appreciated the prompt shipping.',\n",
       " 'positives': \"The sound quality is impressively clear with just the right amount of bass. It's also waterproof, which tested true during a recent splashing incident. The price was a bargain for such high-quality sound. Shipping was also on point, arriving two days early in secure packaging.\",\n",
       " 'negatives': '',\n",
       " 'sentiment': 'positive',\n",
       " 'emotions': 'satisfaction, excitement, appreciation',\n",
       " 'email': \"Dear Customer,\\n\\nThank you so much for your wonderful review! We're thrilled to hear that you are enjoying your Bluetooth speaker and that it met your expectations in terms of sound quality and waterproof features. We also appreciate your kind words about our shipping service. Your satisfaction is our top priority, and we look forward to serving you again in the future!\\n\\nBest regards,\\nService Agent\"}"
      ]
     },
     "execution_count": 21,
     "metadata": {},
     "output_type": "execute_result"
    }
   ],
   "source": [
    "response[0].model_dump()"
   ]
  },
  {
   "cell_type": "code",
   "execution_count": 23,
   "metadata": {},
   "outputs": [
    {
     "data": {
      "text/html": [
       "<div>\n",
       "<style scoped>\n",
       "    .dataframe tbody tr th:only-of-type {\n",
       "        vertical-align: middle;\n",
       "    }\n",
       "\n",
       "    .dataframe tbody tr th {\n",
       "        vertical-align: top;\n",
       "    }\n",
       "\n",
       "    .dataframe thead th {\n",
       "        text-align: right;\n",
       "    }\n",
       "</style>\n",
       "<table border=\"1\" class=\"dataframe\">\n",
       "  <thead>\n",
       "    <tr style=\"text-align: right;\">\n",
       "      <th></th>\n",
       "      <th>Summary</th>\n",
       "      <th>positives</th>\n",
       "      <th>negatives</th>\n",
       "      <th>sentiment</th>\n",
       "      <th>emotions</th>\n",
       "      <th>email</th>\n",
       "    </tr>\n",
       "  </thead>\n",
       "  <tbody>\n",
       "    <tr>\n",
       "      <th>0</th>\n",
       "      <td>The customer is very pleased with the Bluetoot...</td>\n",
       "      <td>The sound quality is impressively clear with j...</td>\n",
       "      <td></td>\n",
       "      <td>positive</td>\n",
       "      <td>satisfaction, excitement, appreciation</td>\n",
       "      <td>Dear Customer,\\n\\nThank you so much for your w...</td>\n",
       "    </tr>\n",
       "    <tr>\n",
       "      <th>1</th>\n",
       "      <td>The customer is very satisfied with their new ...</td>\n",
       "      <td>The keys have a satisfying click and the LED c...</td>\n",
       "      <td></td>\n",
       "      <td>positive</td>\n",
       "      <td>satisfaction, excitement, appreciation</td>\n",
       "      <td>Dear Customer,\\n\\nThank you for your wonderful...</td>\n",
       "    </tr>\n",
       "    <tr>\n",
       "      <th>2</th>\n",
       "      <td>The customer is disappointed with the wireless...</td>\n",
       "      <td>They did arrive on time.</td>\n",
       "      <td>The sound constantly cuts out, and the fit is ...</td>\n",
       "      <td>negative</td>\n",
       "      <td>disappointment, frustration, dissatisfaction</td>\n",
       "      <td>Dear Customer,\\n\\nThank you for your feedback ...</td>\n",
       "    </tr>\n",
       "    <tr>\n",
       "      <th>3</th>\n",
       "      <td>The customer expressed disappointment with the...</td>\n",
       "      <td>It did arrive promptly.</td>\n",
       "      <td>It wobbles with the slightest touch, and the a...</td>\n",
       "      <td>negative</td>\n",
       "      <td>disappointment, frustration, dissatisfaction, ...</td>\n",
       "      <td>Dear Customer,\\n\\nThank you for taking the tim...</td>\n",
       "    </tr>\n",
       "    <tr>\n",
       "      <th>4</th>\n",
       "      <td>The customer had a negative experience with th...</td>\n",
       "      <td></td>\n",
       "      <td>Struggles with tougher foods, incredibly noisy...</td>\n",
       "      <td>negative</td>\n",
       "      <td>frustration, disappointment, dissatisfaction, ...</td>\n",
       "      <td>Dear Customer,\\n\\nThank you for taking the tim...</td>\n",
       "    </tr>\n",
       "  </tbody>\n",
       "</table>\n",
       "</div>"
      ],
      "text/plain": [
       "                                             Summary  \\\n",
       "0  The customer is very pleased with the Bluetoot...   \n",
       "1  The customer is very satisfied with their new ...   \n",
       "2  The customer is disappointed with the wireless...   \n",
       "3  The customer expressed disappointment with the...   \n",
       "4  The customer had a negative experience with th...   \n",
       "\n",
       "                                           positives  \\\n",
       "0  The sound quality is impressively clear with j...   \n",
       "1  The keys have a satisfying click and the LED c...   \n",
       "2                           They did arrive on time.   \n",
       "3                            It did arrive promptly.   \n",
       "4                                                      \n",
       "\n",
       "                                           negatives sentiment  \\\n",
       "0                                                     positive   \n",
       "1                                                     positive   \n",
       "2  The sound constantly cuts out, and the fit is ...  negative   \n",
       "3  It wobbles with the slightest touch, and the a...  negative   \n",
       "4  Struggles with tougher foods, incredibly noisy...  negative   \n",
       "\n",
       "                                            emotions  \\\n",
       "0             satisfaction, excitement, appreciation   \n",
       "1             satisfaction, excitement, appreciation   \n",
       "2       disappointment, frustration, dissatisfaction   \n",
       "3  disappointment, frustration, dissatisfaction, ...   \n",
       "4  frustration, disappointment, dissatisfaction, ...   \n",
       "\n",
       "                                               email  \n",
       "0  Dear Customer,\\n\\nThank you so much for your w...  \n",
       "1  Dear Customer,\\n\\nThank you for your wonderful...  \n",
       "2  Dear Customer,\\n\\nThank you for your feedback ...  \n",
       "3  Dear Customer,\\n\\nThank you for taking the tim...  \n",
       "4  Dear Customer,\\n\\nThank you for taking the tim...  "
      ]
     },
     "execution_count": 23,
     "metadata": {},
     "output_type": "execute_result"
    }
   ],
   "source": [
    "import pandas as pd\n",
    "\n",
    "pd.DataFrame(response.model_dump() for response in response)"
   ]
  },
  {
   "cell_type": "code",
   "execution_count": null,
   "metadata": {},
   "outputs": [],
   "source": []
  }
 ],
 "metadata": {
  "kernelspec": {
   "display_name": ".venv",
   "language": "python",
   "name": "python3"
  },
  "language_info": {
   "codemirror_mode": {
    "name": "ipython",
    "version": 3
   },
   "file_extension": ".py",
   "mimetype": "text/x-python",
   "name": "python",
   "nbconvert_exporter": "python",
   "pygments_lexer": "ipython3",
   "version": "3.13.1"
  }
 },
 "nbformat": 4,
 "nbformat_minor": 2
}
