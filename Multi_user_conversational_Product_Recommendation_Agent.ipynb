{
 "cells": [
  {
   "cell_type": "code",
   "execution_count": 131,
   "metadata": {},
   "outputs": [],
   "source": [
    "# Importing the relevant libraries\n",
    "import os\n",
    "from dotenv import load_dotenv\n",
    "import langchain\n",
    "from langchain_openai import OpenAI, ChatOpenAI\n",
    "from langchain_core.prompts import PromptTemplate, ChatPromptTemplate, MessagesPlaceholder\n",
    "from langchain_core.messages import HumanMessage, SystemMessage\n",
    "from IPython.display import display, Markdown, Image\n",
    "from pydantic import BaseModel, Field\n",
    "from langchain_core.output_parsers import PydanticOutputParser,StrOutputParser\n",
    "from langchain_community.callbacks import get_openai_callback\n",
    "from langchain_core.globals import set_llm_cache\n",
    "from langchain_core.caches import InMemoryCache\n",
    "from langchain.memory import ConversationBufferMemory,ConversationBufferWindowMemory, VectorStoreRetrieverMemory\n",
    "from langchain.schema.runnable import RunnablePassthrough, RunnableLambda, RunnableParallel, RunnableBranch\n",
    "from langchain_core.runnables import chain\n",
    "from langchain_openai import OpenAIEmbeddings\n",
    "from langchain_chroma import Chroma\n",
    "from langchain_core.chat_history import BaseChatMessageHistory\n",
    "from langchain_community.chat_message_histories import ChatMessageHistory, SQLChatMessageHistory\n",
    "from langchain_core.runnables.history import RunnableWithMessageHistory\n",
    "from operator import itemgetter\n",
    "import pandas as pd\n",
    "from rich.console import Console\n",
    "from rich.markdown import Markdown"
   ]
  },
  {
   "cell_type": "code",
   "execution_count": 132,
   "metadata": {},
   "outputs": [
    {
     "data": {
      "text/plain": [
       "True"
      ]
     },
     "execution_count": 132,
     "metadata": {},
     "output_type": "execute_result"
    }
   ],
   "source": [
    "# loading the environment variables\n",
    "load_dotenv()"
   ]
  },
  {
   "cell_type": "code",
   "execution_count": 133,
   "metadata": {},
   "outputs": [
    {
     "name": "stderr",
     "output_type": "stream",
     "text": [
      "Downloading...\n",
      "From: https://drive.google.com/uc?id=1tAwsv97fICL74uJH9fDlxNEZ_YFFJS3W\n",
      "To: c:\\Users\\LENOVO\\Documents\\GitHub\\Generative-AI\\Ecommerce_Product_List.csv\n",
      "\n",
      "  0%|          | 0.00/5.19k [00:00<?, ?B/s]\n",
      "100%|██████████| 5.19k/5.19k [00:00<00:00, 16.0MB/s]\n"
     ]
    }
   ],
   "source": [
    "# download it manually from https://drive.google.com/file/d/1tAwsv97fICL74uJH9fDlxNEZ_YFFJS3W/view?usp=sharing\n",
    "# or use gdown as follows to download it automatically\n",
    "! gdown 1tAwsv97fICL74uJH9fDlxNEZ_YFFJS3W"
   ]
  },
  {
   "cell_type": "code",
   "execution_count": 134,
   "metadata": {},
   "outputs": [],
   "source": [
    "chatgpt = ChatOpenAI(model = \"gpt-4o-mini\", temperature=0)"
   ]
  },
  {
   "cell_type": "code",
   "execution_count": 135,
   "metadata": {},
   "outputs": [],
   "source": [
    "SYS_PROMPT = \"\"\"You are a retail product expert.\n",
    "                Carefully analyze the following conversation history\n",
    "                and the current user query.\n",
    "                Refer to the history and rephrase the current user query\n",
    "                into a standalone query which can be used without the history\n",
    "                for making search queries.\n",
    "                Rephrase only if needed.\n",
    "                Just return the query and do not answer it.\n",
    "            \"\"\"\n",
    "\n",
    "# prompt to load in history and current input from the user\n",
    "prompt_template = ChatPromptTemplate.from_messages(\n",
    "    [\n",
    "        (\"system\", SYS_PROMPT),\n",
    "        MessagesPlaceholder(variable_name=\"history\"),\n",
    "        (\"human\", \"\"\"Current User Query:\n",
    "                     {human_input}\n",
    "                  \"\"\"),\n",
    "    ]\n",
    ")\n",
    "\n",
    "# create a memory buffer window function to return the last K conversations\n",
    "def memory_buffer_window(messages, k=10): # 10 here means retrieve only last 2*10 user-AI conversations\n",
    "    return messages[-(2*k):]\n",
    "\n",
    "# create a basic LLM Chain which only sends the last K conversations per user\n",
    "rephrase_query_chain = (\n",
    "    RunnablePassthrough.assign(history=lambda x: memory_buffer_window(x[\"history\"]))\n",
    "      |\n",
    "    prompt_template\n",
    "      |\n",
    "    chatgpt\n",
    "      |\n",
    "    StrOutputParser()\n",
    ")"
   ]
  },
  {
   "cell_type": "code",
   "execution_count": 136,
   "metadata": {},
   "outputs": [],
   "source": [
    "@chain\n",
    "def pandas_code_tool_executor(query):\n",
    "    result_df = eval(query)\n",
    "    if result_df.empty:\n",
    "        return df.to_markdown()\n",
    "    else:\n",
    "        return result_df.to_markdown()"
   ]
  },
  {
   "cell_type": "code",
   "execution_count": 137,
   "metadata": {},
   "outputs": [
    {
     "data": {
      "text/html": [
       "<div>\n",
       "<style scoped>\n",
       "    .dataframe tbody tr th:only-of-type {\n",
       "        vertical-align: middle;\n",
       "    }\n",
       "\n",
       "    .dataframe tbody tr th {\n",
       "        vertical-align: top;\n",
       "    }\n",
       "\n",
       "    .dataframe thead th {\n",
       "        text-align: right;\n",
       "    }\n",
       "</style>\n",
       "<table border=\"1\" class=\"dataframe\">\n",
       "  <thead>\n",
       "    <tr style=\"text-align: right;\">\n",
       "      <th></th>\n",
       "      <th>Product_ID</th>\n",
       "      <th>Product_Name</th>\n",
       "      <th>Category</th>\n",
       "      <th>Price_USD</th>\n",
       "      <th>Rating</th>\n",
       "      <th>Description</th>\n",
       "    </tr>\n",
       "  </thead>\n",
       "  <tbody>\n",
       "    <tr>\n",
       "      <th>0</th>\n",
       "      <td>P001</td>\n",
       "      <td>AlphaBook Pro</td>\n",
       "      <td>Laptop</td>\n",
       "      <td>1200</td>\n",
       "      <td>4.5</td>\n",
       "      <td>The AlphaBook Pro features a 15-inch Retina di...</td>\n",
       "    </tr>\n",
       "    <tr>\n",
       "      <th>1</th>\n",
       "      <td>P002</td>\n",
       "      <td>BetaTab S</td>\n",
       "      <td>Tablet</td>\n",
       "      <td>500</td>\n",
       "      <td>4.2</td>\n",
       "      <td>BetaTab S is a lightweight tablet with a 15-in...</td>\n",
       "    </tr>\n",
       "    <tr>\n",
       "      <th>2</th>\n",
       "      <td>P003</td>\n",
       "      <td>GammaPhone X</td>\n",
       "      <td>Smartphone</td>\n",
       "      <td>800</td>\n",
       "      <td>4.7</td>\n",
       "      <td>GammaPhone X comes with a 6.7-inch AMOLED disp...</td>\n",
       "    </tr>\n",
       "    <tr>\n",
       "      <th>3</th>\n",
       "      <td>P004</td>\n",
       "      <td>DeltaWatch 2</td>\n",
       "      <td>Smartwatch</td>\n",
       "      <td>300</td>\n",
       "      <td>4.0</td>\n",
       "      <td>DeltaWatch 2 offers fitness tracking, heart ra...</td>\n",
       "    </tr>\n",
       "    <tr>\n",
       "      <th>4</th>\n",
       "      <td>P005</td>\n",
       "      <td>EpsilonCam 300</td>\n",
       "      <td>Camera</td>\n",
       "      <td>600</td>\n",
       "      <td>4.1</td>\n",
       "      <td>EpsilonCam 300 is a mirrorless camera with a 2...</td>\n",
       "    </tr>\n",
       "  </tbody>\n",
       "</table>\n",
       "</div>"
      ],
      "text/plain": [
       "  Product_ID    Product_Name    Category  Price_USD  Rating  \\\n",
       "0       P001   AlphaBook Pro      Laptop       1200     4.5   \n",
       "1       P002       BetaTab S      Tablet        500     4.2   \n",
       "2       P003    GammaPhone X  Smartphone        800     4.7   \n",
       "3       P004    DeltaWatch 2  Smartwatch        300     4.0   \n",
       "4       P005  EpsilonCam 300      Camera        600     4.1   \n",
       "\n",
       "                                         Description  \n",
       "0  The AlphaBook Pro features a 15-inch Retina di...  \n",
       "1  BetaTab S is a lightweight tablet with a 15-in...  \n",
       "2  GammaPhone X comes with a 6.7-inch AMOLED disp...  \n",
       "3  DeltaWatch 2 offers fitness tracking, heart ra...  \n",
       "4  EpsilonCam 300 is a mirrorless camera with a 2...  "
      ]
     },
     "execution_count": 137,
     "metadata": {},
     "output_type": "execute_result"
    }
   ],
   "source": [
    "df = pd.read_csv(\"./Ecommerce_Product_List.csv\")\n",
    "df.head()"
   ]
  },
  {
   "cell_type": "code",
   "execution_count": 138,
   "metadata": {},
   "outputs": [
    {
     "name": "stdout",
     "output_type": "stream",
     "text": [
      "<class 'pandas.core.frame.DataFrame'>\n",
      "RangeIndex: 30 entries, 0 to 29\n",
      "Data columns (total 6 columns):\n",
      " #   Column        Non-Null Count  Dtype  \n",
      "---  ------        --------------  -----  \n",
      " 0   Product_ID    30 non-null     object \n",
      " 1   Product_Name  30 non-null     object \n",
      " 2   Category      30 non-null     object \n",
      " 3   Price_USD     30 non-null     int64  \n",
      " 4   Rating        30 non-null     float64\n",
      " 5   Description   30 non-null     object \n",
      "dtypes: float64(1), int64(1), object(4)\n",
      "memory usage: 1.5+ KB\n"
     ]
    }
   ],
   "source": [
    "df.info()"
   ]
  },
  {
   "cell_type": "code",
   "execution_count": 139,
   "metadata": {},
   "outputs": [
    {
     "data": {
      "text/plain": [
       "array([4.5, 4.2, 4.7, 4. , 4.1, 4.3, 4.6, 4.4, 4.8, 3.9, 4.9])"
      ]
     },
     "execution_count": 139,
     "metadata": {},
     "output_type": "execute_result"
    }
   ],
   "source": [
    "df.Rating.unique()"
   ]
  },
  {
   "cell_type": "code",
   "execution_count": 140,
   "metadata": {},
   "outputs": [],
   "source": [
    "FILTER_PROMPT = \"\"\"Given the following schema of a dataframe table,\n",
    "            your task is to figure out the best pandas query to\n",
    "            filter the dataframe based on the user query which\n",
    "            will be in natural language.\n",
    "\n",
    "            The schema is as follows:\n",
    "\n",
    "            #   Column        Non-Null Count  Dtype\n",
    "            ---  ------        --------------  -----\n",
    "            0   Product_ID    30 non-null     object\n",
    "            1   Product_Name  30 non-null     object\n",
    "            2   Category      30 non-null     object\n",
    "            3   Price_USD     30 non-null     int64\n",
    "            4   Rating        30 non-null     float64\n",
    "            5   Description   30 non-null     object\n",
    "\n",
    "            Category has values: ['Laptop', 'Tablet', 'Smartphone',\n",
    "                                  'Smartwatch', 'Camera',\n",
    "                                  'Headphones', 'Mouse', 'Keyboard',\n",
    "                                  'Monitor', 'Charger']\n",
    "\n",
    "            Rating ranges from 1 - 5 in floats\n",
    "\n",
    "            You will try to figure out the pandas query focusing\n",
    "            only on Category, Price_USD and Rating if the user mentions\n",
    "            anything about these in their natural language query.\n",
    "            Do not make up column names, only use the above.\n",
    "            If not the pandas query should just return the full dataframe.\n",
    "            Remember the dataframe name is df.\n",
    "\n",
    "            Just return only the pandas query and nothing else.\n",
    "            Do not return the results as markdown, just return the query\n",
    "\n",
    "            User Query: {user_query}\n",
    "            Pandas Query:\n",
    "        \"\"\"\n",
    "\n",
    "filter_prompt_template = ChatPromptTemplate.from_template(FILTER_PROMPT)\n",
    "\n",
    "data_filter_chain = (\n",
    "         filter_prompt_template\n",
    "           |\n",
    "         chatgpt\n",
    "           |\n",
    "         StrOutputParser()\n",
    "           |\n",
    "         pandas_code_tool_executor\n",
    ")\n",
    "\n",
    "product_table = data_filter_chain.invoke({\"user_query\": \"\"\"looking for a tablet with > 10 inch display\n",
    "                                                           and at least 64GB storage\"\"\"})"
   ]
  },
  {
   "cell_type": "code",
   "execution_count": 141,
   "metadata": {},
   "outputs": [],
   "source": [
    "RECOMMEND_PROMPT = \"\"\"Act as an expert retail product advisor\n",
    "                      Given the following table of products,\n",
    "                      focus on the product attributes and description in the table\n",
    "                      and based on the user query below do the following\n",
    "\n",
    "                      - Recommend the most appropriate products based on the query\n",
    "                      - Recommedation should have product name, price,  rating, description\n",
    "                      - Also add a brief on why you recommend the product\n",
    "                      - Do not make up products or recommend products not in the table\n",
    "                      - If some specifications do not match focus on the ones which match and recommend\n",
    "                      - If nothing matches recommend 5 random products from the table\n",
    "                      - Do not generate anything else except the fields mentioned above\n",
    "\n",
    "                    In case the user query is just a generic query or greeting\n",
    "                    respond to them appropriately without recommending any products\n",
    "\n",
    "                    Product Table:\n",
    "                    {product_table}\n",
    "\n",
    "                    User Query:\n",
    "                    {user_query}\n",
    "\n",
    "                    Recommendation:\n",
    "                    \"\"\"\n",
    "\n",
    "recommend_prompt_template = ChatPromptTemplate.from_template(RECOMMEND_PROMPT)\n",
    "\n",
    "recommend_chain = (\n",
    "         recommend_prompt_template\n",
    "           |\n",
    "         chatgpt\n",
    "           |\n",
    "         StrOutputParser()\n",
    ")\n",
    "\n",
    "response = recommend_chain.invoke({\"user_query\": \"\"\"looking for a tablet with greater than 10 inch display\n",
    "                                                           and at least 64GB storage\"\"\",\n",
    "                                   \"product_table\": product_table})"
   ]
  },
  {
   "cell_type": "code",
   "execution_count": 142,
   "metadata": {},
   "outputs": [],
   "source": [
    "final_chain =(\n",
    "    {\"human_input\" : itemgetter('human_input'),\n",
    "     \"history\" : itemgetter('history')}\n",
    "     |\n",
    "     {\"user_query\" : rephrase_query_chain}\n",
    "     |\n",
    "     RunnablePassthrough.assign(product_table=data_filter_chain)\n",
    "     |\n",
    "     recommend_chain\n",
    ")\n"
   ]
  },
  {
   "cell_type": "code",
   "execution_count": 143,
   "metadata": {},
   "outputs": [],
   "source": [
    "# used to retrieve conversation history from database\n",
    "# based on a specific user or session ID\n",
    "def get_session_history_db(session_id):\n",
    "    return SQLChatMessageHistory(session_id, \"sqlite:///memory.db\")"
   ]
  },
  {
   "cell_type": "code",
   "execution_count": 144,
   "metadata": {},
   "outputs": [],
   "source": [
    "conv_chain = RunnableWithMessageHistory(\n",
    "    final_chain,\n",
    "    get_session_history_db,\n",
    "    input_messages_key=\"human_input\",\n",
    "    history_messages_key=\"history\"\n",
    ")"
   ]
  },
  {
   "cell_type": "code",
   "execution_count": 149,
   "metadata": {},
   "outputs": [],
   "source": [
    "def chat_with_llm(prompt: str, session_id: str):\n",
    "    response = conv_chain.invoke({\"human_input\": prompt},\n",
    "                                 {'configurable': { 'session_id': session_id}})\n",
    "    console = Console()\n",
    "    console.print(Markdown(response))\n"
   ]
  },
  {
   "cell_type": "code",
   "execution_count": 150,
   "metadata": {},
   "outputs": [
    {
     "data": {
      "text/html": [
       "<pre style=\"white-space:pre;overflow-x:auto;line-height:normal;font-family:Menlo,'DejaVu Sans Mono',consolas,'Courier New',monospace\">\n",
       "                                                                                                                   \n",
       " <span style=\"font-weight: bold\"> Product_Name   </span> <span style=\"font-weight: bold\"> Price_USD </span> <span style=\"font-weight: bold\"> Rating </span> <span style=\"font-weight: bold\"> Description                                                               </span> \n",
       " ━━━━━━━━━━━━━━━━━━━━━━━━━━━━━━━━━━━━━━━━━━━━━━━━━━━━━━━━━━━━━━━━━━━━━━━━━━━━━━━━━━━━━━━━━━━━━━━━━━━━━━━━━━━━━━━━━ \n",
       "  BetaTab S        500         4.2      BetaTab S is a lightweight tablet with a 15-inch display, 4GB RAM, and     \n",
       "                                        64GB storage. Perfect for entertainment and light work on the go.          \n",
       "  BetaTab Lite     400         4.1      BetaTab Lite is a budget-friendly 10-inch tablet with 2GB RAM and 32GB     \n",
       "                                        storage, perfect for casual browsing and entertainment.                    \n",
       "  SpectraTab Max   600         4.3      SpectraTab Max features a 12-inch Retina display, 6GB RAM, and 128GB       \n",
       "                                        storage, designed for entertainment and professional use.                  \n",
       "                                                                                                                   \n",
       "\n",
       "I recommend these tablets based on your search for a tablet. Each option caters to different needs: the BetaTab S  \n",
       "is great for those who want a larger display and more power, the BetaTab Lite is ideal for casual users on a       \n",
       "budget, and the SpectraTab Max offers high performance for both entertainment and professional tasks.              \n",
       "</pre>\n"
      ],
      "text/plain": [
       "\n",
       "                                                                                                                   \n",
       " \u001b[1m \u001b[0m\u001b[1mProduct_Name\u001b[0m\u001b[1m  \u001b[0m\u001b[1m \u001b[0m \u001b[1m \u001b[0m\u001b[1mPrice_USD\u001b[0m\u001b[1m \u001b[0m \u001b[1m \u001b[0m\u001b[1mRating\u001b[0m\u001b[1m \u001b[0m \u001b[1m \u001b[0m\u001b[1mDescription\u001b[0m\u001b[1m                                                              \u001b[0m\u001b[1m \u001b[0m \n",
       " ━━━━━━━━━━━━━━━━━━━━━━━━━━━━━━━━━━━━━━━━━━━━━━━━━━━━━━━━━━━━━━━━━━━━━━━━━━━━━━━━━━━━━━━━━━━━━━━━━━━━━━━━━━━━━━━━━ \n",
       "  BetaTab S        500         4.2      BetaTab S is a lightweight tablet with a 15-inch display, 4GB RAM, and     \n",
       "                                        64GB storage. Perfect for entertainment and light work on the go.          \n",
       "  BetaTab Lite     400         4.1      BetaTab Lite is a budget-friendly 10-inch tablet with 2GB RAM and 32GB     \n",
       "                                        storage, perfect for casual browsing and entertainment.                    \n",
       "  SpectraTab Max   600         4.3      SpectraTab Max features a 12-inch Retina display, 6GB RAM, and 128GB       \n",
       "                                        storage, designed for entertainment and professional use.                  \n",
       "                                                                                                                   \n",
       "\n",
       "I recommend these tablets based on your search for a tablet. Each option caters to different needs: the BetaTab S  \n",
       "is great for those who want a larger display and more power, the BetaTab Lite is ideal for casual users on a       \n",
       "budget, and the SpectraTab Max offers high performance for both entertainment and professional tasks.              \n"
      ]
     },
     "metadata": {},
     "output_type": "display_data"
    }
   ],
   "source": [
    "user_id = 'jim001'\n",
    "prompt = \"looking for a tablet\"\n",
    "chat_with_llm(prompt, user_id)"
   ]
  },
  {
   "cell_type": "code",
   "execution_count": 151,
   "metadata": {},
   "outputs": [
    {
     "data": {
      "text/html": [
       "<pre style=\"white-space:pre;overflow-x:auto;line-height:normal;font-family:Menlo,'DejaVu Sans Mono',consolas,'Courier New',monospace\">\n",
       "                                                                                                                   \n",
       " <span style=\"font-weight: bold\"> Product_Name   </span> <span style=\"font-weight: bold\"> Price_USD </span> <span style=\"font-weight: bold\"> Rating </span> <span style=\"font-weight: bold\"> Description                                                               </span> \n",
       " ━━━━━━━━━━━━━━━━━━━━━━━━━━━━━━━━━━━━━━━━━━━━━━━━━━━━━━━━━━━━━━━━━━━━━━━━━━━━━━━━━━━━━━━━━━━━━━━━━━━━━━━━━━━━━━━━━ \n",
       "  BetaTab S        500         4.2      BetaTab S is a lightweight tablet with a 15-inch display, 4GB RAM, and     \n",
       "                                        64GB storage. Perfect for entertainment and light work on the go.          \n",
       "  SpectraTab Max   600         4.3      SpectraTab Max features a 12-inch Retina display, 6GB RAM, and 128GB       \n",
       "                                        storage, designed for entertainment and professional use.                  \n",
       "                                                                                                                   \n",
       "\n",
       "I recommend the BetaTab S and SpectraTab Max because they both have displays larger than 10 inches, meeting your   \n",
       "requirement. The BetaTab S is great for casual use and portability, while the SpectraTab Max offers a higher       \n",
       "resolution and more powerful specifications, making it suitable for both entertainment and professional tasks.     \n",
       "</pre>\n"
      ],
      "text/plain": [
       "\n",
       "                                                                                                                   \n",
       " \u001b[1m \u001b[0m\u001b[1mProduct_Name\u001b[0m\u001b[1m  \u001b[0m\u001b[1m \u001b[0m \u001b[1m \u001b[0m\u001b[1mPrice_USD\u001b[0m\u001b[1m \u001b[0m \u001b[1m \u001b[0m\u001b[1mRating\u001b[0m\u001b[1m \u001b[0m \u001b[1m \u001b[0m\u001b[1mDescription\u001b[0m\u001b[1m                                                              \u001b[0m\u001b[1m \u001b[0m \n",
       " ━━━━━━━━━━━━━━━━━━━━━━━━━━━━━━━━━━━━━━━━━━━━━━━━━━━━━━━━━━━━━━━━━━━━━━━━━━━━━━━━━━━━━━━━━━━━━━━━━━━━━━━━━━━━━━━━━ \n",
       "  BetaTab S        500         4.2      BetaTab S is a lightweight tablet with a 15-inch display, 4GB RAM, and     \n",
       "                                        64GB storage. Perfect for entertainment and light work on the go.          \n",
       "  SpectraTab Max   600         4.3      SpectraTab Max features a 12-inch Retina display, 6GB RAM, and 128GB       \n",
       "                                        storage, designed for entertainment and professional use.                  \n",
       "                                                                                                                   \n",
       "\n",
       "I recommend the BetaTab S and SpectraTab Max because they both have displays larger than 10 inches, meeting your   \n",
       "requirement. The BetaTab S is great for casual use and portability, while the SpectraTab Max offers a higher       \n",
       "resolution and more powerful specifications, making it suitable for both entertainment and professional tasks.     \n"
      ]
     },
     "metadata": {},
     "output_type": "display_data"
    }
   ],
   "source": [
    "prompt = \"want one which has display larger than 10 inches\"\n",
    "chat_with_llm(prompt, user_id)"
   ]
  },
  {
   "cell_type": "code",
   "execution_count": 152,
   "metadata": {},
   "outputs": [
    {
     "data": {
      "text/html": [
       "<pre style=\"white-space:pre;overflow-x:auto;line-height:normal;font-family:Menlo,'DejaVu Sans Mono',consolas,'Courier New',monospace\">\n",
       "                                                                                                                   \n",
       " <span style=\"font-weight: bold\"> Product_Name   </span> <span style=\"font-weight: bold\"> Price_USD </span> <span style=\"font-weight: bold\"> Rating </span> <span style=\"font-weight: bold\"> Description                                                               </span> \n",
       " ━━━━━━━━━━━━━━━━━━━━━━━━━━━━━━━━━━━━━━━━━━━━━━━━━━━━━━━━━━━━━━━━━━━━━━━━━━━━━━━━━━━━━━━━━━━━━━━━━━━━━━━━━━━━━━━━━ \n",
       "  SpectraTab Max   600         4.3      SpectraTab Max features a 12-inch Retina display, 6GB RAM, and 128GB       \n",
       "                                        storage, designed for entertainment and professional use.                  \n",
       "                                                                                                                   \n",
       "\n",
       "I recommend the SpectraTab Max because it meets your requirement for at least 128GB of disk space. With its        \n",
       "high-resolution Retina display and ample RAM, it is well-suited for both entertainment and professional tasks,     \n",
       "making it a versatile choice for your needs.                                                                       \n",
       "</pre>\n"
      ],
      "text/plain": [
       "\n",
       "                                                                                                                   \n",
       " \u001b[1m \u001b[0m\u001b[1mProduct_Name\u001b[0m\u001b[1m  \u001b[0m\u001b[1m \u001b[0m \u001b[1m \u001b[0m\u001b[1mPrice_USD\u001b[0m\u001b[1m \u001b[0m \u001b[1m \u001b[0m\u001b[1mRating\u001b[0m\u001b[1m \u001b[0m \u001b[1m \u001b[0m\u001b[1mDescription\u001b[0m\u001b[1m                                                              \u001b[0m\u001b[1m \u001b[0m \n",
       " ━━━━━━━━━━━━━━━━━━━━━━━━━━━━━━━━━━━━━━━━━━━━━━━━━━━━━━━━━━━━━━━━━━━━━━━━━━━━━━━━━━━━━━━━━━━━━━━━━━━━━━━━━━━━━━━━━ \n",
       "  SpectraTab Max   600         4.3      SpectraTab Max features a 12-inch Retina display, 6GB RAM, and 128GB       \n",
       "                                        storage, designed for entertainment and professional use.                  \n",
       "                                                                                                                   \n",
       "\n",
       "I recommend the SpectraTab Max because it meets your requirement for at least 128GB of disk space. With its        \n",
       "high-resolution Retina display and ample RAM, it is well-suited for both entertainment and professional tasks,     \n",
       "making it a versatile choice for your needs.                                                                       \n"
      ]
     },
     "metadata": {},
     "output_type": "display_data"
    }
   ],
   "source": [
    "prompt = \"need at least 128GB disk space\"\n",
    "chat_with_llm(prompt, user_id)"
   ]
  },
  {
   "cell_type": "code",
   "execution_count": 153,
   "metadata": {},
   "outputs": [
    {
     "data": {
      "text/html": [
       "<pre style=\"white-space:pre;overflow-x:auto;line-height:normal;font-family:Menlo,'DejaVu Sans Mono',consolas,'Courier New',monospace\">\n",
       "                                                                                                                   \n",
       " <span style=\"font-weight: bold\"> Product_Name   </span> <span style=\"font-weight: bold\"> Price_USD </span> <span style=\"font-weight: bold\"> Rating </span> <span style=\"font-weight: bold\"> Description                                                               </span> \n",
       " ━━━━━━━━━━━━━━━━━━━━━━━━━━━━━━━━━━━━━━━━━━━━━━━━━━━━━━━━━━━━━━━━━━━━━━━━━━━━━━━━━━━━━━━━━━━━━━━━━━━━━━━━━━━━━━━━━ \n",
       "  OmniBook Elite   1300        4.7      OmniBook Elite is a powerful 14-inch laptop with 16GB RAM, 512GB SSD, and  \n",
       "                                        Intel Core i7, perfect for productivity and multitasking.                  \n",
       "  AlphaBook Air    1000        4.6      AlphaBook Air offers a sleek 13-inch Retina display, 8GB RAM, 256GB SSD,   \n",
       "                                        and Intel Core i5, designed for portability and efficiency.                \n",
       "  AlphaBook Pro    1200        4.5      The AlphaBook Pro features a 15-inch Retina display, 16GB RAM, 512GB SSD,  \n",
       "                                        and an Intel Core i7 processor. Ideal for professionals who need           \n",
       "                                        performance and portability.                                               \n",
       "                                                                                                                   \n",
       "\n",
       "I recommend these products because they all have high ratings, indicating strong customer satisfaction. The        \n",
       "OmniBook Elite has the highest rating at 4.7, making it an excellent choice for those seeking a highly rated       \n",
       "laptop. The AlphaBook Air and AlphaBook Pro also offer great performance and features, catering to different needs \n",
       "in terms of portability and power.                                                                                 \n",
       "</pre>\n"
      ],
      "text/plain": [
       "\n",
       "                                                                                                                   \n",
       " \u001b[1m \u001b[0m\u001b[1mProduct_Name\u001b[0m\u001b[1m  \u001b[0m\u001b[1m \u001b[0m \u001b[1m \u001b[0m\u001b[1mPrice_USD\u001b[0m\u001b[1m \u001b[0m \u001b[1m \u001b[0m\u001b[1mRating\u001b[0m\u001b[1m \u001b[0m \u001b[1m \u001b[0m\u001b[1mDescription\u001b[0m\u001b[1m                                                              \u001b[0m\u001b[1m \u001b[0m \n",
       " ━━━━━━━━━━━━━━━━━━━━━━━━━━━━━━━━━━━━━━━━━━━━━━━━━━━━━━━━━━━━━━━━━━━━━━━━━━━━━━━━━━━━━━━━━━━━━━━━━━━━━━━━━━━━━━━━━ \n",
       "  OmniBook Elite   1300        4.7      OmniBook Elite is a powerful 14-inch laptop with 16GB RAM, 512GB SSD, and  \n",
       "                                        Intel Core i7, perfect for productivity and multitasking.                  \n",
       "  AlphaBook Air    1000        4.6      AlphaBook Air offers a sleek 13-inch Retina display, 8GB RAM, 256GB SSD,   \n",
       "                                        and Intel Core i5, designed for portability and efficiency.                \n",
       "  AlphaBook Pro    1200        4.5      The AlphaBook Pro features a 15-inch Retina display, 16GB RAM, 512GB SSD,  \n",
       "                                        and an Intel Core i7 processor. Ideal for professionals who need           \n",
       "                                        performance and portability.                                               \n",
       "                                                                                                                   \n",
       "\n",
       "I recommend these products because they all have high ratings, indicating strong customer satisfaction. The        \n",
       "OmniBook Elite has the highest rating at 4.7, making it an excellent choice for those seeking a highly rated       \n",
       "laptop. The AlphaBook Air and AlphaBook Pro also offer great performance and features, catering to different needs \n",
       "in terms of portability and power.                                                                                 \n"
      ]
     },
     "metadata": {},
     "output_type": "display_data"
    }
   ],
   "source": [
    "user_id = 'bond007'\n",
    "prompt = \"I want a laptop with a high rating\"\n",
    "chat_with_llm(prompt, user_id)"
   ]
  },
  {
   "cell_type": "code",
   "execution_count": 154,
   "metadata": {},
   "outputs": [
    {
     "data": {
      "text/html": [
       "<pre style=\"white-space:pre;overflow-x:auto;line-height:normal;font-family:Menlo,'DejaVu Sans Mono',consolas,'Courier New',monospace\">\n",
       "                                                                                                                   \n",
       " <span style=\"font-weight: bold\"> Product_Name   </span> <span style=\"font-weight: bold\"> Price_USD </span> <span style=\"font-weight: bold\"> Rating </span> <span style=\"font-weight: bold\"> Description                                                               </span> \n",
       " ━━━━━━━━━━━━━━━━━━━━━━━━━━━━━━━━━━━━━━━━━━━━━━━━━━━━━━━━━━━━━━━━━━━━━━━━━━━━━━━━━━━━━━━━━━━━━━━━━━━━━━━━━━━━━━━━━ \n",
       "  AlphaBook Pro    1200        4.5      The AlphaBook Pro features a 15-inch Retina display, 16GB RAM, 512GB SSD,  \n",
       "                                        and an Intel Core i7 processor. Ideal for professionals who need           \n",
       "                                        performance and portability.                                               \n",
       "  OmniBook Elite   1300        4.7      OmniBook Elite is a powerful 14-inch laptop with 16GB RAM, 512GB SSD, and  \n",
       "                                        Intel Core i7, perfect for productivity and multitasking.                  \n",
       "                                                                                                                   \n",
       "\n",
       "I recommend the <span style=\"font-weight: bold\">AlphaBook Pro</span> and <span style=\"font-weight: bold\">OmniBook Elite</span> because they both meet your requirement of having at least 16GB of\n",
       "memory. The AlphaBook Pro is designed for professionals needing performance and portability, while the OmniBook    \n",
       "Elite is ideal for productivity and multitasking, making either a great choice for your needs.                     \n",
       "</pre>\n"
      ],
      "text/plain": [
       "\n",
       "                                                                                                                   \n",
       " \u001b[1m \u001b[0m\u001b[1mProduct_Name\u001b[0m\u001b[1m  \u001b[0m\u001b[1m \u001b[0m \u001b[1m \u001b[0m\u001b[1mPrice_USD\u001b[0m\u001b[1m \u001b[0m \u001b[1m \u001b[0m\u001b[1mRating\u001b[0m\u001b[1m \u001b[0m \u001b[1m \u001b[0m\u001b[1mDescription\u001b[0m\u001b[1m                                                              \u001b[0m\u001b[1m \u001b[0m \n",
       " ━━━━━━━━━━━━━━━━━━━━━━━━━━━━━━━━━━━━━━━━━━━━━━━━━━━━━━━━━━━━━━━━━━━━━━━━━━━━━━━━━━━━━━━━━━━━━━━━━━━━━━━━━━━━━━━━━ \n",
       "  AlphaBook Pro    1200        4.5      The AlphaBook Pro features a 15-inch Retina display, 16GB RAM, 512GB SSD,  \n",
       "                                        and an Intel Core i7 processor. Ideal for professionals who need           \n",
       "                                        performance and portability.                                               \n",
       "  OmniBook Elite   1300        4.7      OmniBook Elite is a powerful 14-inch laptop with 16GB RAM, 512GB SSD, and  \n",
       "                                        Intel Core i7, perfect for productivity and multitasking.                  \n",
       "                                                                                                                   \n",
       "\n",
       "I recommend the \u001b[1mAlphaBook Pro\u001b[0m and \u001b[1mOmniBook Elite\u001b[0m because they both meet your requirement of having at least 16GB of\n",
       "memory. The AlphaBook Pro is designed for professionals needing performance and portability, while the OmniBook    \n",
       "Elite is ideal for productivity and multitasking, making either a great choice for your needs.                     \n"
      ]
     },
     "metadata": {},
     "output_type": "display_data"
    }
   ],
   "source": [
    "prompt = \"want atleast 16GB memory\"\n",
    "chat_with_llm(prompt, user_id)"
   ]
  }
 ],
 "metadata": {
  "kernelspec": {
   "display_name": ".venv",
   "language": "python",
   "name": "python3"
  },
  "language_info": {
   "codemirror_mode": {
    "name": "ipython",
    "version": 3
   },
   "file_extension": ".py",
   "mimetype": "text/x-python",
   "name": "python",
   "nbconvert_exporter": "python",
   "pygments_lexer": "ipython3",
   "version": "3.13.1"
  }
 },
 "nbformat": 4,
 "nbformat_minor": 2
}
