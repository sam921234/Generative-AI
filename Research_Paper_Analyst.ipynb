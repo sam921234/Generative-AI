{
 "cells": [
  {
   "cell_type": "markdown",
   "metadata": {},
   "source": [
    "## Mini-Project 2: Research Paper Analyst\n",
    "\n",
    "Make ChatGPT act as an AI expert and transform the given research paper abstract based on the nature of the audience mentioned below.\n",
    "\n",
    "- Short summary of maximum 10 lines for a general audience\n",
    "- Detailed report for a healthcare company. Have bullet points for pros and cons of ethics in Generative AI as mentioned in the paper\n",
    "- Detailed report for a generative AI company solving healthcare problems. Have bullet points for key points mentioned for Generative AI for text, images and structured data based healthcare\n",
    "\n",
    "Try to use `ChatPromptTemplate` so you can have a conversation with ChatGPT for each of the above tasks using conversational prompting"
   ]
  },
  {
   "cell_type": "markdown",
   "metadata": {},
   "source": []
  },
  {
   "cell_type": "code",
   "execution_count": 68,
   "metadata": {},
   "outputs": [],
   "source": [
    "# Importing the relevant libraries\n",
    "import os\n",
    "from dotenv import load_dotenv\n",
    "import langchain\n",
    "from langchain_openai import OpenAI, ChatOpenAI\n",
    "from langchain_core.prompts import PromptTemplate, ChatPromptTemplate\n",
    "from langchain_core.messages import HumanMessage, SystemMessage\n",
    "from IPython.display import display, Markdown\n",
    "from pydantic import BaseModel, Field\n",
    "from langchain_core.output_parsers import PydanticOutputParser\n",
    "from langchain_community.callbacks import get_openai_callback\n",
    "from langchain_core.globals import set_llm_cache\n",
    "from langchain_core.caches import InMemoryCache\n"
   ]
  },
  {
   "cell_type": "code",
   "execution_count": 69,
   "metadata": {},
   "outputs": [
    {
     "data": {
      "text/plain": [
       "True"
      ]
     },
     "execution_count": 69,
     "metadata": {},
     "output_type": "execute_result"
    }
   ],
   "source": [
    "# loading the environment variables\n",
    "load_dotenv()"
   ]
  },
  {
   "cell_type": "code",
   "execution_count": 70,
   "metadata": {},
   "outputs": [],
   "source": [
    "# Interfacing with chat models\n",
    "chatgpt = ChatOpenAI(model = \"gpt-4o-mini\",temperature = 0)"
   ]
  },
  {
   "cell_type": "code",
   "execution_count": 71,
   "metadata": {},
   "outputs": [],
   "source": [
    "set_llm_cache(InMemoryCache())"
   ]
  },
  {
   "cell_type": "code",
   "execution_count": 72,
   "metadata": {},
   "outputs": [],
   "source": [
    "paper_abstract = f\"\"\"\n",
    "The widespread use of ChatGPT and other emerging technology powered by generative\n",
    "artificial intelligence (AI) has drawn much attention to potential ethical issues, especially in\n",
    "high-stakes applications such as healthcare.1–3 However, less clear is how to resolve such\n",
    "issues beyond following guidelines and regulations that are still under discussion and\n",
    "development. On the other hand, other types of generative AI have been used to synthesize\n",
    "images and other types of data for research and practical purposes, which have resolved some\n",
    "ethical issues and exposed other ethical issues,4,5 but such technology is less often the focus\n",
    "of ongoing ethical discussions. Here we highlight gaps in current ethical discussions of\n",
    "generative AI via a systematic scoping review of relevant existing research in healthcare, and\n",
    "reduce the gaps by proposing an ethics checklist for comprehensive assessment and\n",
    "transparent documentation of ethical discussions in generative AI development. While the\n",
    "checklist can be readily integrated into the current peer review and publication system to\n",
    "enhance generative AI research, it may also be used in broader settings to disclose ethicsrelated considerations in generative AI-powered products (or real-life applications of such\n",
    "products) to help users establish reasonable trust in their capabilities.\n",
    "\n",
    "Current ethical discussions on generative AI in healthcare\n",
    "We conducted a systematic scoping review to analyse current ethical discussions on\n",
    "generative AI in healthcare. Our search in four major academic research databases for\n",
    "relevant publications from January 2013 to July 2023 yielded 2859 articles (see Methods for\n",
    "detailed search strategy and Supplementary Figure S1 for the PRISMA flow diagram), of\n",
    "which 193 articles were included for analysis based on application data modality (text, image,\n",
    "or structured data), ethical issues discussed, generative AI involved, and whether generative\n",
    "AI causes or offers technical solutions for issues raised.\n",
    "\n",
    "Generative AI for text data-based healthcare\n",
    "Forty-one of the 193 articles discussed ethical considerations pertaining to generative AI\n",
    "applications for text data, with 20 articles describing methodological developments or\n",
    "applications of generative AI and the other 21 articles describing review-type works on this\n",
    "topic. Although some of these review-type articles used the general term “generative AI”, the\n",
    "main body and supporting evidence focused on LLMs. Twenty-nine articles had in-depth\n",
    "discussions on ethical issues, whereas the other 12 articles only briefly touched on some\n",
    "ethical aspects.\n",
    "Among the 41 articles, 29 articles focused on discussing ethical issues caused by LLMs (and\n",
    "specifically by GPT in 16 of the articles), covering a wide range of application scenarios and\n",
    "considered the application of all 10 ethical principles identified in the review (see Figure 1),\n",
    "as well as other less discussed concerns such as human-AI interaction, and the rights of\n",
    "LLMs to be considered as co-authors in scientific papers. One paper only commented briefly\n",
    "on the need for ethical considerations in LLMs and is summarised in the “Others” category.\n",
    "Although all ethical principles are equally important, some are discussed more often than\n",
    "others, e.g., non-maleficence (also referred to in the literature as ‘benevolence’), equity, and\n",
    "privacy.\n",
    "Fifteen of the 41 articles aimed to resolve some existing ethical issues (for example,\n",
    "confidentiality of medical data) by using LLMs and other generative AI (e.g., GAN,\n",
    "autoencoder or diffusion), such as, to reduce privacy concerns by generating synthetic\n",
    "medical text, to reduce disparity by providing accessible services and assistance, to detect\n",
    "health-related misinformation, to generate trusted content, and to improve accountability or\n",
    "transparency over existing approaches. While most articles focused on either identifying\n",
    "ethical issues caused by generative AI or proposing generative AI-based solutions, three\n",
    "articles discussed both to provide a more balanced perspective.\n",
    "\n",
    "Generative AI for image and structured data-based healthcare\n",
    "Unlike the diverse application scenarios of generative AI based on text data, for image and\n",
    "structured data, this use of generative AI focuses on data synthesis and encryption. Hence the\n",
    "majority of articles discussed the methodological developments of generative AI as giving\n",
    "rise to a more distinctive and focused set of ethical issues.\n",
    "5\n",
    "Notably, of the 98 articles on image data and 58 articles on structured data, more than half\n",
    "(n=63 for image data and n=33 for structured data) only mentioned ethical considerations as a\n",
    "brief motivation for methodological developments or as a general discussion point. The rest\n",
    "included more in-depth discussions or evaluations of ethical issues. Among these 155 articles\n",
    "(as one article covered multiple modalities), 11 articles were review-type work, where 10\n",
    "articles reviewed methods that mentioned one or two ethical perspectives, and only one\n",
    "article24 discussed detailed ethical concerns on generative AI applications.\n",
    "Resolving privacy issues was the main aim of articles for these two data modalities (n=74 for\n",
    "image data and n=50 for structured data; see Figure 1), predominantly by generating synthetic\n",
    "data using GAN. Eight articles on image data and 9 articles on structured data used\n",
    "generative AI to reduce bias, e.g., by synthesizing data for under-represented subgroups in\n",
    "existing databases. For both data modalities, we did not see explicit discussions on resolving\n",
    "autonomy, integrity, or morality issues using generative AI, and for structured data the articles\n",
    "additionally lacked discussions on trust or transparency.\n",
    "Only 11 articles for image data selectively discussed some ethical issues that generative AI\n",
    "can give rise to, without specific discussions regarding autonomy, integrity, or morality. For\n",
    "structured data, only 4 articles discussed equity, privacy, or data security issues caused by\n",
    "generative AI. Only two articles on structured data included both the cause and resolving\n",
    "perspectives by discussing ethical issues that may arise from limitations of methods\n",
    "proposed, specifically bias induced when synthesizing data in order to resolve privacy issues.\n",
    "\"\"\""
   ]
  },
  {
   "cell_type": "code",
   "execution_count": 73,
   "metadata": {},
   "outputs": [],
   "source": [
    "sys_prompt = \"\"\"\n",
    "Act as an AI expert and transform the given research paper abstract based on the nature of the audience mentioned below. \"\"\"\n",
    "\n",
    "messages = [\n",
    " (\"system\", sys_prompt),\n",
    " (\"human\", \"{guideline}\"),\n",
    "]\n",
    "\n",
    "prompt_template =ChatPromptTemplate.from_messages(messages)\n"
   ]
  },
  {
   "cell_type": "code",
   "execution_count": 74,
   "metadata": {},
   "outputs": [],
   "source": [
    "prompt_txt = f\"\"\"Based on the following research paper abstract,\n",
    "create the summary report of maximum 10 lines\n",
    "for a general audience\n",
    "\n",
    "Abstract:\n",
    "{paper_abstract}\"\"\"\n",
    "\n",
    "guideline = [HumanMessage(content = prompt_txt)]\n",
    "prompt = {\"guideline\": guideline}"
   ]
  },
  {
   "cell_type": "code",
   "execution_count": 75,
   "metadata": {},
   "outputs": [],
   "source": [
    "chain = (\n",
    "    prompt_template \n",
    "          |\n",
    "        chatgpt\n",
    ")"
   ]
  },
  {
   "cell_type": "code",
   "execution_count": 76,
   "metadata": {},
   "outputs": [
    {
     "data": {
      "text/plain": [
       "ChatPromptTemplate(input_variables=['guideline'], input_types={}, partial_variables={}, messages=[SystemMessagePromptTemplate(prompt=PromptTemplate(input_variables=[], input_types={}, partial_variables={}, template='\\nAct as an AI expert and transform the given research paper abstract based on the nature of the audience mentioned below. '), additional_kwargs={}), HumanMessagePromptTemplate(prompt=PromptTemplate(input_variables=['guideline'], input_types={}, partial_variables={}, template='{guideline}'), additional_kwargs={})])"
      ]
     },
     "execution_count": 76,
     "metadata": {},
     "output_type": "execute_result"
    }
   ],
   "source": [
    "prompt_template"
   ]
  },
  {
   "cell_type": "code",
   "execution_count": 77,
   "metadata": {},
   "outputs": [
    {
     "data": {
      "text/plain": [
       "{'guideline': [HumanMessage(content='Based on the following research paper abstract,\\ncreate the summary report of maximum 10 lines\\nfor a general audience\\n\\nAbstract:\\n\\nThe widespread use of ChatGPT and other emerging technology powered by generative\\nartificial intelligence (AI) has drawn much attention to potential ethical issues, especially in\\nhigh-stakes applications such as healthcare.1–3 However, less clear is how to resolve such\\nissues beyond following guidelines and regulations that are still under discussion and\\ndevelopment. On the other hand, other types of generative AI have been used to synthesize\\nimages and other types of data for research and practical purposes, which have resolved some\\nethical issues and exposed other ethical issues,4,5 but such technology is less often the focus\\nof ongoing ethical discussions. Here we highlight gaps in current ethical discussions of\\ngenerative AI via a systematic scoping review of relevant existing research in healthcare, and\\nreduce the gaps by proposing an ethics checklist for comprehensive assessment and\\ntransparent documentation of ethical discussions in generative AI development. While the\\nchecklist can be readily integrated into the current peer review and publication system to\\nenhance generative AI research, it may also be used in broader settings to disclose ethicsrelated considerations in generative AI-powered products (or real-life applications of such\\nproducts) to help users establish reasonable trust in their capabilities.\\n\\nCurrent ethical discussions on generative AI in healthcare\\nWe conducted a systematic scoping review to analyse current ethical discussions on\\ngenerative AI in healthcare. Our search in four major academic research databases for\\nrelevant publications from January 2013 to July 2023 yielded 2859 articles (see Methods for\\ndetailed search strategy and Supplementary Figure S1 for the PRISMA flow diagram), of\\nwhich 193 articles were included for analysis based on application data modality (text, image,\\nor structured data), ethical issues discussed, generative AI involved, and whether generative\\nAI causes or offers technical solutions for issues raised.\\n\\nGenerative AI for text data-based healthcare\\nForty-one of the 193 articles discussed ethical considerations pertaining to generative AI\\napplications for text data, with 20 articles describing methodological developments or\\napplications of generative AI and the other 21 articles describing review-type works on this\\ntopic. Although some of these review-type articles used the general term “generative AI”, the\\nmain body and supporting evidence focused on LLMs. Twenty-nine articles had in-depth\\ndiscussions on ethical issues, whereas the other 12 articles only briefly touched on some\\nethical aspects.\\nAmong the 41 articles, 29 articles focused on discussing ethical issues caused by LLMs (and\\nspecifically by GPT in 16 of the articles), covering a wide range of application scenarios and\\nconsidered the application of all 10 ethical principles identified in the review (see Figure 1),\\nas well as other less discussed concerns such as human-AI interaction, and the rights of\\nLLMs to be considered as co-authors in scientific papers. One paper only commented briefly\\non the need for ethical considerations in LLMs and is summarised in the “Others” category.\\nAlthough all ethical principles are equally important, some are discussed more often than\\nothers, e.g., non-maleficence (also referred to in the literature as ‘benevolence’), equity, and\\nprivacy.\\nFifteen of the 41 articles aimed to resolve some existing ethical issues (for example,\\nconfidentiality of medical data) by using LLMs and other generative AI (e.g., GAN,\\nautoencoder or diffusion), such as, to reduce privacy concerns by generating synthetic\\nmedical text, to reduce disparity by providing accessible services and assistance, to detect\\nhealth-related misinformation, to generate trusted content, and to improve accountability or\\ntransparency over existing approaches. While most articles focused on either identifying\\nethical issues caused by generative AI or proposing generative AI-based solutions, three\\narticles discussed both to provide a more balanced perspective.\\n\\nGenerative AI for image and structured data-based healthcare\\nUnlike the diverse application scenarios of generative AI based on text data, for image and\\nstructured data, this use of generative AI focuses on data synthesis and encryption. Hence the\\nmajority of articles discussed the methodological developments of generative AI as giving\\nrise to a more distinctive and focused set of ethical issues.\\n5\\nNotably, of the 98 articles on image data and 58 articles on structured data, more than half\\n(n=63 for image data and n=33 for structured data) only mentioned ethical considerations as a\\nbrief motivation for methodological developments or as a general discussion point. The rest\\nincluded more in-depth discussions or evaluations of ethical issues. Among these 155 articles\\n(as one article covered multiple modalities), 11 articles were review-type work, where 10\\narticles reviewed methods that mentioned one or two ethical perspectives, and only one\\narticle24 discussed detailed ethical concerns on generative AI applications.\\nResolving privacy issues was the main aim of articles for these two data modalities (n=74 for\\nimage data and n=50 for structured data; see Figure 1), predominantly by generating synthetic\\ndata using GAN. Eight articles on image data and 9 articles on structured data used\\ngenerative AI to reduce bias, e.g., by synthesizing data for under-represented subgroups in\\nexisting databases. For both data modalities, we did not see explicit discussions on resolving\\nautonomy, integrity, or morality issues using generative AI, and for structured data the articles\\nadditionally lacked discussions on trust or transparency.\\nOnly 11 articles for image data selectively discussed some ethical issues that generative AI\\ncan give rise to, without specific discussions regarding autonomy, integrity, or morality. For\\nstructured data, only 4 articles discussed equity, privacy, or data security issues caused by\\ngenerative AI. Only two articles on structured data included both the cause and resolving\\nperspectives by discussing ethical issues that may arise from limitations of methods\\nproposed, specifically bias induced when synthesizing data in order to resolve privacy issues.\\n', additional_kwargs={}, response_metadata={})]}"
      ]
     },
     "execution_count": 77,
     "metadata": {},
     "output_type": "execute_result"
    }
   ],
   "source": [
    "prompt"
   ]
  },
  {
   "cell_type": "code",
   "execution_count": 78,
   "metadata": {},
   "outputs": [
    {
     "data": {
      "text/markdown": [
       "The increasing use of generative artificial intelligence (AI), like ChatGPT, in healthcare raises important ethical questions. This research reviews existing literature to identify gaps in ethical discussions surrounding generative AI applications. The study found that while many articles address ethical issues, particularly related to text data, fewer focus on image and structured data. To improve ethical oversight, the authors propose a checklist that can be integrated into research and product development processes. This checklist aims to enhance transparency and help users trust generative AI technologies by ensuring ethical considerations are documented and addressed. Overall, the research highlights the need for ongoing dialogue about the ethical implications of generative AI in healthcare."
      ],
      "text/plain": [
       "<IPython.core.display.Markdown object>"
      ]
     },
     "metadata": {},
     "output_type": "display_data"
    }
   ],
   "source": [
    "response = chain.invoke(prompt)\n",
    "messages.append(response)\n",
    "display(Markdown(response.content))"
   ]
  },
  {
   "cell_type": "code",
   "execution_count": 79,
   "metadata": {},
   "outputs": [
    {
     "data": {
      "text/plain": [
       "[('system',\n",
       "  '\\nAct as an AI expert and transform the given research paper abstract based on the nature of the audience mentioned below. '),\n",
       " ('human', '{guideline}'),\n",
       " AIMessage(content='The increasing use of generative artificial intelligence (AI), like ChatGPT, in healthcare raises important ethical questions. This research reviews existing literature to identify gaps in ethical discussions surrounding generative AI applications. The study found that while many articles address ethical issues, particularly related to text data, fewer focus on image and structured data. To improve ethical oversight, the authors propose a checklist that can be integrated into research and product development processes. This checklist aims to enhance transparency and help users trust generative AI technologies by ensuring ethical considerations are documented and addressed. Overall, the research highlights the need for ongoing dialogue about the ethical implications of generative AI in healthcare.', additional_kwargs={'refusal': None}, response_metadata={'token_usage': {'completion_tokens': 130, 'prompt_tokens': 1316, 'total_tokens': 1446, 'completion_tokens_details': {'accepted_prediction_tokens': 0, 'audio_tokens': 0, 'reasoning_tokens': 0, 'rejected_prediction_tokens': 0}, 'prompt_tokens_details': {'audio_tokens': 0, 'cached_tokens': 0}}, 'model_name': 'gpt-4o-mini-2024-07-18', 'system_fingerprint': 'fp_0aa8d3e20b', 'finish_reason': 'stop', 'logprobs': None}, id='run-132fd1a6-0e9d-482d-8afd-fa01aa27868e-0', usage_metadata={'input_tokens': 1316, 'output_tokens': 130, 'total_tokens': 1446, 'input_token_details': {'audio': 0, 'cache_read': 0}, 'output_token_details': {'audio': 0, 'reasoning': 0}})]"
      ]
     },
     "execution_count": 79,
     "metadata": {},
     "output_type": "execute_result"
    }
   ],
   "source": [
    "messages\n"
   ]
  },
  {
   "cell_type": "code",
   "execution_count": 80,
   "metadata": {},
   "outputs": [
    {
     "data": {
      "text/markdown": [
       "### Report on Ethical Considerations of Generative AI in Healthcare\n",
       "\n",
       "#### Introduction\n",
       "The integration of generative artificial intelligence (AI) technologies, such as ChatGPT, into the healthcare sector has the potential to revolutionize patient care and operational efficiency. However, this rapid adoption also brings forth significant ethical challenges that must be addressed to ensure responsible use. This report synthesizes findings from recent research on the ethical implications of generative AI in healthcare, highlighting key gaps in the current discourse and proposing actionable solutions.\n",
       "\n",
       "#### Key Findings\n",
       "The research conducted a comprehensive review of existing literature on the ethical considerations surrounding generative AI applications in healthcare. The following points summarize the main findings:\n",
       "\n",
       "- **Literature Gaps**: While numerous studies discuss ethical issues related to text data generated by AI, there is a notable lack of focus on ethical considerations concerning image and structured data. This gap indicates a need for broader discussions that encompass all forms of data utilized in healthcare AI applications.\n",
       "\n",
       "- **Proposed Solutions**: To enhance ethical oversight in the development and deployment of generative AI technologies, the authors propose a practical checklist. This checklist is designed to be integrated into research and product development processes, ensuring that ethical considerations are systematically documented and addressed.\n",
       "\n",
       "- **Importance of Transparency**: The research emphasizes the necessity of transparency in generative AI applications. By implementing the proposed checklist, healthcare organizations can foster trust among users and stakeholders, thereby promoting responsible AI usage.\n",
       "\n",
       "#### Pros and Cons of Ethics in Generative AI\n",
       "\n",
       "**Pros:**\n",
       "- **Enhanced Trust**: Establishing ethical guidelines and transparency can significantly increase user trust in generative AI technologies, leading to greater acceptance and utilization in healthcare settings.\n",
       "- **Improved Patient Safety**: Ethical oversight can help mitigate risks associated with AI-generated content, ensuring that patient care remains a priority and that AI tools are used responsibly.\n",
       "- **Regulatory Compliance**: Adhering to ethical standards can assist healthcare organizations in meeting regulatory requirements, thereby avoiding potential legal issues and enhancing their reputation.\n",
       "\n",
       "**Cons:**\n",
       "- **Implementation Challenges**: Developing and integrating ethical checklists into existing workflows may require additional resources and training, which could be a barrier for some organizations.\n",
       "- **Potential for Stifling Innovation**: Overly stringent ethical guidelines may hinder the rapid development and deployment of innovative AI solutions, potentially slowing down advancements in healthcare technology.\n",
       "- **Subjectivity in Ethics**: Ethical considerations can be subjective, leading to varying interpretations and applications across different organizations, which may complicate standardization efforts.\n",
       "\n",
       "#### Conclusion\n",
       "The ethical implications of generative AI in healthcare are complex and multifaceted. As the technology continues to evolve, it is crucial for healthcare organizations to engage in ongoing dialogue about these issues. By addressing the identified gaps and implementing the proposed checklist, stakeholders can work towards a more ethical and responsible integration of generative AI in healthcare, ultimately benefiting both providers and patients."
      ],
      "text/plain": [
       "<IPython.core.display.Markdown object>"
      ]
     },
     "metadata": {},
     "output_type": "display_data"
    }
   ],
   "source": [
    "prompt_txt = f\"\"\"\n",
    "Use only the research paper abstract from earlier and create a detailed report for a healthcare company.\n",
    "In the report, also include bullet points (3 max) for pros and cons of ethics in Generative AI\n",
    "\"\"\"\n",
    "messages.append(HumanMessage(content = prompt_txt))\n",
    "prompt = {\"guideline\": messages}\n",
    "response = chain.invoke(prompt)\n",
    "messages.append(response)\n",
    "display(Markdown(response.content))"
   ]
  },
  {
   "cell_type": "code",
   "execution_count": 81,
   "metadata": {},
   "outputs": [
    {
     "data": {
      "text/markdown": [
       "### Report on Generative AI Applications in Healthcare\n",
       "\n",
       "#### Introduction\n",
       "The integration of generative artificial intelligence (AI) technologies, such as ChatGPT, into the healthcare sector presents significant opportunities for innovation and efficiency. However, the ethical implications of these technologies must be carefully considered to ensure responsible and effective use. This report synthesizes findings from recent research on the ethical considerations of generative AI in healthcare, focusing on the application of AI in text, images, and structured data.\n",
       "\n",
       "#### Key Findings\n",
       "\n",
       "1. **Literature Gaps**: \n",
       "   - The research indicates that while there is substantial discourse on the ethical implications of AI-generated text data, there is a notable lack of focus on ethical considerations surrounding image and structured data. This gap highlights the need for a more comprehensive approach to ethical discussions that encompass all forms of data utilized in healthcare AI applications.\n",
       "\n",
       "2. **Generative AI for Text**:\n",
       "   - Generative AI technologies can produce patient documentation, clinical notes, and educational materials. However, ethical concerns arise regarding data privacy, consent, and the accuracy of generated information. Ensuring that AI-generated text adheres to ethical standards is crucial for maintaining trust and reliability in healthcare communications.\n",
       "\n",
       "3. **Generative AI for Images**:\n",
       "   - The use of generative AI in creating or analyzing medical images (e.g., radiology scans) presents unique ethical challenges. Issues such as bias in training data, the potential for misinterpretation, and the implications of AI-generated images on clinical decision-making must be addressed to ensure patient safety and care quality.\n",
       "\n",
       "4. **Generative AI for Structured Data**:\n",
       "   - Structured data, such as electronic health records (EHRs), can be enhanced through generative AI for predictive analytics and personalized medicine. However, ethical considerations regarding data security, patient consent, and the potential for misuse of sensitive information are paramount. Organizations must implement robust ethical frameworks to govern the use of structured data in AI applications.\n",
       "\n",
       "#### Proposed Solutions\n",
       "To enhance ethical oversight in the development and deployment of generative AI technologies, the authors propose a practical checklist. This checklist is designed to be integrated into research and product development processes, ensuring that ethical considerations are systematically documented and addressed. By fostering transparency and accountability, healthcare organizations can build trust among users and stakeholders.\n",
       "\n",
       "#### Conclusion\n",
       "The ethical implications of generative AI in healthcare are complex and multifaceted. As the technology continues to evolve, it is crucial for generative AI companies to engage in ongoing dialogue about these issues. By addressing the identified gaps and implementing the proposed checklist, stakeholders can work towards a more ethical and responsible integration of generative AI in healthcare, ultimately benefiting both providers and patients.\n",
       "\n",
       "#### Key Points Summary\n",
       "- **Text Data**: Ethical concerns include data privacy, consent, and accuracy of AI-generated content.\n",
       "- **Image Data**: Challenges involve bias, misinterpretation, and implications for clinical decision-making.\n",
       "- **Structured Data**: Ethical considerations focus on data security, patient consent, and potential misuse of sensitive information. \n",
       "\n",
       "By understanding and addressing these key points, generative AI companies can better navigate the ethical landscape and contribute positively to the healthcare sector."
      ],
      "text/plain": [
       "<IPython.core.display.Markdown object>"
      ]
     },
     "metadata": {},
     "output_type": "display_data"
    }
   ],
   "source": [
    "prompt_txt = f\"\"\"\n",
    "Use only the research paper abstract from earlier and create a detailed report for a generative AI company solving healthcare problems.\n",
    "In the report also include sections for key points mentioned around Generative AI for text, images and structured data based healthcare\n",
    "\"\"\"\n",
    "messages.append(HumanMessage(content = prompt_txt))\n",
    "prompt = {\"guideline\": messages}\n",
    "response = chain.invoke(prompt)\n",
    "messages.append(response)\n",
    "display(Markdown(response.content))"
   ]
  },
  {
   "cell_type": "code",
   "execution_count": null,
   "metadata": {},
   "outputs": [],
   "source": []
  }
 ],
 "metadata": {
  "kernelspec": {
   "display_name": ".venv",
   "language": "python",
   "name": "python3"
  },
  "language_info": {
   "codemirror_mode": {
    "name": "ipython",
    "version": 3
   },
   "file_extension": ".py",
   "mimetype": "text/x-python",
   "name": "python",
   "nbconvert_exporter": "python",
   "pygments_lexer": "ipython3",
   "version": "3.13.1"
  }
 },
 "nbformat": 4,
 "nbformat_minor": 2
}
